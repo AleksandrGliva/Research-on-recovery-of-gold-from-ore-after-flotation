{
 "cells": [
  {
   "cell_type": "markdown",
   "metadata": {
    "toc": true
   },
   "source": [
    "<h1>Содержание<span class=\"tocSkip\"></span></h1>\n",
    "<div class=\"toc\"><ul class=\"toc-item\"><li><span><a href=\"#Подготовка-данных\" data-toc-modified-id=\"Подготовка-данных-1\"><span class=\"toc-item-num\">1&nbsp;&nbsp;</span>Подготовка данных</a></span></li><li><span><a href=\"#Анализ-данных\" data-toc-modified-id=\"Анализ-данных-2\"><span class=\"toc-item-num\">2&nbsp;&nbsp;</span>Анализ данных</a></span></li><li><span><a href=\"#Модель\" data-toc-modified-id=\"Модель-3\"><span class=\"toc-item-num\">3&nbsp;&nbsp;</span>Модель</a></span></li><li><span><a href=\"#Чек-лист-готовности-проекта\" data-toc-modified-id=\"Чек-лист-готовности-проекта-4\"><span class=\"toc-item-num\">4&nbsp;&nbsp;</span>Чек-лист готовности проекта</a></span></li></ul></div>"
   ]
  },
  {
   "cell_type": "markdown",
   "metadata": {},
   "source": [
    "# Восстановление золота из руды"
   ]
  },
  {
   "cell_type": "markdown",
   "metadata": {},
   "source": [
    "Подготовьте прототип модели машинного обучения для «Цифры». Компания разрабатывает решения для эффективной работы промышленных предприятий.\n",
    "\n",
    "Модель должна предсказать коэффициент восстановления золота из золотосодержащей руды. Используйте данные с параметрами добычи и очистки. \n",
    "\n",
    "Модель поможет оптимизировать производство, чтобы не запускать предприятие с убыточными характеристиками.\n",
    "\n",
    "Вам нужно:\n",
    "\n",
    "1. Подготовить данные;\n",
    "2. Провести исследовательский анализ данных;\n",
    "3. Построить и обучить модель.\n",
    "\n",
    "Чтобы выполнить проект, обращайтесь к библиотекам *pandas*, *matplotlib* и *sklearn.* Вам поможет их документация."
   ]
  },
  {
   "cell_type": "markdown",
   "metadata": {},
   "source": [
    "Описание проекта"
   ]
  },
  {
   "cell_type": "markdown",
   "metadata": {},
   "source": [
    "Цель: - Подготовить модель машинного обучения для предскаазания коэффициента восстановления золота из золотосодержащей руды. Доступны данные с параметрами добычи и очистки. Модель необходима для оптимизации производства."
   ]
  },
  {
   "cell_type": "markdown",
   "metadata": {},
   "source": [
    "Задачи:"
   ]
  },
  {
   "cell_type": "markdown",
   "metadata": {},
   "source": [
    "    Подготовить данные;\n",
    "    \n",
    "    Провести исследовательский анализ данных;\n",
    "    \n",
    "    Построить и обучить модель."
   ]
  },
  {
   "cell_type": "markdown",
   "metadata": {},
   "source": [
    "Описание данных"
   ]
  },
  {
   "cell_type": "markdown",
   "metadata": {},
   "source": [
    "    Наименование признаков:\n",
    "[этап].[тип_параметра].[название_параметра]\n",
    "* Пример: rougher.input.feed_ag\n",
    "* Возможные значения для блока [этап]:\n",
    "    * rougher — флотация\n",
    "    * primary_cleaner — первичная очистка\n",
    "    * secondary_cleaner — вторичная очистка\n",
    "    * final — финальные характеристики\n",
    "* Возможные значения для блока [тип_параметра]:\n",
    "    *   input — параметры сырья\n",
    "    *   output — параметры продукта\n",
    "    *   state — параметры, характеризующие текущее состояние этапа\n",
    "    *   calculation — расчётные характеристики\n",
    "* Параметры этапов:\n",
    "    * air amount — объём воздуха\n",
    "    * fluid levels — уровень жидкости\n",
    "    * feed size — размер гранул сырья\n",
    "    * feed rate — скорость подачи"
   ]
  },
  {
   "cell_type": "markdown",
   "metadata": {},
   "source": [
    "План выполнения работы:\n",
    "\n",
    "* Подготовка Данных\n",
    "    * Изучение данных\n",
    "    * Проверка расчётов эффективности обогащения\n",
    "    * Анализ признаков, недоступных в тестовой выборке\n",
    "Предобработка данных\n",
    "* Анализ данных\n",
    "    * Анализ изменения концентрации металлов (Au, Ag, Pb)\n",
    "    * Сравнение распределений размеров гранул сырья\n",
    "    * Исследование суммарных концентраций веществ\n",
    "* Модель\n",
    "    * Функция итоговой sMAPE\n",
    "    * Обучение и оценка качества моделей\n",
    "    * Тестирование модели\n",
    "* Общий вывод"
   ]
  },
  {
   "cell_type": "markdown",
   "metadata": {},
   "source": [
    "## Подготовка данных"
   ]
  },
  {
   "cell_type": "code",
   "execution_count": 1,
   "metadata": {},
   "outputs": [],
   "source": [
    "import numpy as np\n",
    "import pandas as pd\n",
    "import collections\n",
    "from sklearn.metrics import mean_absolute_error as MAE\n",
    "from sklearn.pipeline import  make_pipeline\n",
    "from sklearn.impute import KNNImputer\n",
    "from sklearn.ensemble import RandomForestRegressor\n",
    "from sklearn.preprocessing import StandardScaler\n",
    "from sklearn.model_selection import cross_val_score\n",
    "from sklearn.model_selection import GridSearchCV\n",
    "from sklearn.preprocessing import PolynomialFeatures\n",
    "from sklearn.linear_model import LinearRegression\n",
    "from sklearn.tree import DecisionTreeRegressor\n",
    "import matplotlib.pyplot as plt\n",
    "from sklearn.metrics import make_scorer\n",
    "from sklearn.dummy import DummyRegressor\n",
    "import seaborn as sns\n",
    "\n",
    "import warnings\n",
    "warnings.simplefilter(action='ignore', category=FutureWarning)"
   ]
  },
  {
   "cell_type": "code",
   "execution_count": 2,
   "metadata": {},
   "outputs": [],
   "source": [
    "test_frame = pd.read_csv('/datasets/gold_recovery_test.csv')\n",
    "train_frame = pd.read_csv('/datasets/gold_recovery_train.csv')\n",
    "full_frame = pd.read_csv('/datasets/gold_recovery_full.csv')"
   ]
  },
  {
   "cell_type": "code",
   "execution_count": 3,
   "metadata": {},
   "outputs": [],
   "source": [
    "train_frame = train_frame.replace(float(\"-inf\"),np.nan)\n",
    "test_frame = test_frame.replace(float(\"-inf\"),np.nan)"
   ]
  },
  {
   "cell_type": "code",
   "execution_count": 4,
   "metadata": {},
   "outputs": [
    {
     "name": "stdout",
     "output_type": "stream",
     "text": [
      "<class 'pandas.core.frame.DataFrame'>\n",
      "RangeIndex: 16860 entries, 0 to 16859\n",
      "Data columns (total 87 columns):\n",
      "date                                                  16860 non-null object\n",
      "final.output.concentrate_ag                           16788 non-null float64\n",
      "final.output.concentrate_pb                           16788 non-null float64\n",
      "final.output.concentrate_sol                          16490 non-null float64\n",
      "final.output.concentrate_au                           16789 non-null float64\n",
      "final.output.recovery                                 15339 non-null float64\n",
      "final.output.tail_ag                                  16794 non-null float64\n",
      "final.output.tail_pb                                  16677 non-null float64\n",
      "final.output.tail_sol                                 16715 non-null float64\n",
      "final.output.tail_au                                  16794 non-null float64\n",
      "primary_cleaner.input.sulfate                         15553 non-null float64\n",
      "primary_cleaner.input.depressant                      15598 non-null float64\n",
      "primary_cleaner.input.feed_size                       16860 non-null float64\n",
      "primary_cleaner.input.xanthate                        15875 non-null float64\n",
      "primary_cleaner.output.concentrate_ag                 16778 non-null float64\n",
      "primary_cleaner.output.concentrate_pb                 16502 non-null float64\n",
      "primary_cleaner.output.concentrate_sol                16224 non-null float64\n",
      "primary_cleaner.output.concentrate_au                 16778 non-null float64\n",
      "primary_cleaner.output.tail_ag                        16777 non-null float64\n",
      "primary_cleaner.output.tail_pb                        16761 non-null float64\n",
      "primary_cleaner.output.tail_sol                       16579 non-null float64\n",
      "primary_cleaner.output.tail_au                        16777 non-null float64\n",
      "primary_cleaner.state.floatbank8_a_air                16820 non-null float64\n",
      "primary_cleaner.state.floatbank8_a_level              16827 non-null float64\n",
      "primary_cleaner.state.floatbank8_b_air                16820 non-null float64\n",
      "primary_cleaner.state.floatbank8_b_level              16833 non-null float64\n",
      "primary_cleaner.state.floatbank8_c_air                16822 non-null float64\n",
      "primary_cleaner.state.floatbank8_c_level              16833 non-null float64\n",
      "primary_cleaner.state.floatbank8_d_air                16821 non-null float64\n",
      "primary_cleaner.state.floatbank8_d_level              16833 non-null float64\n",
      "rougher.calculation.sulfate_to_au_concentrate         16833 non-null float64\n",
      "rougher.calculation.floatbank10_sulfate_to_au_feed    16833 non-null float64\n",
      "rougher.calculation.floatbank11_sulfate_to_au_feed    16833 non-null float64\n",
      "rougher.calculation.au_pb_ratio                       15618 non-null float64\n",
      "rougher.input.feed_ag                                 16778 non-null float64\n",
      "rougher.input.feed_pb                                 16632 non-null float64\n",
      "rougher.input.feed_rate                               16347 non-null float64\n",
      "rougher.input.feed_size                               16443 non-null float64\n",
      "rougher.input.feed_sol                                16568 non-null float64\n",
      "rougher.input.feed_au                                 16777 non-null float64\n",
      "rougher.input.floatbank10_sulfate                     15816 non-null float64\n",
      "rougher.input.floatbank10_xanthate                    16514 non-null float64\n",
      "rougher.input.floatbank11_sulfate                     16237 non-null float64\n",
      "rougher.input.floatbank11_xanthate                    14956 non-null float64\n",
      "rougher.output.concentrate_ag                         16778 non-null float64\n",
      "rougher.output.concentrate_pb                         16778 non-null float64\n",
      "rougher.output.concentrate_sol                        16698 non-null float64\n",
      "rougher.output.concentrate_au                         16778 non-null float64\n",
      "rougher.output.recovery                               14287 non-null float64\n",
      "rougher.output.tail_ag                                14610 non-null float64\n",
      "rougher.output.tail_pb                                16778 non-null float64\n",
      "rougher.output.tail_sol                               14611 non-null float64\n",
      "rougher.output.tail_au                                14611 non-null float64\n",
      "rougher.state.floatbank10_a_air                       16807 non-null float64\n",
      "rougher.state.floatbank10_a_level                     16807 non-null float64\n",
      "rougher.state.floatbank10_b_air                       16807 non-null float64\n",
      "rougher.state.floatbank10_b_level                     16807 non-null float64\n",
      "rougher.state.floatbank10_c_air                       16807 non-null float64\n",
      "rougher.state.floatbank10_c_level                     16814 non-null float64\n",
      "rougher.state.floatbank10_d_air                       16802 non-null float64\n",
      "rougher.state.floatbank10_d_level                     16809 non-null float64\n",
      "rougher.state.floatbank10_e_air                       16257 non-null float64\n",
      "rougher.state.floatbank10_e_level                     16809 non-null float64\n",
      "rougher.state.floatbank10_f_air                       16802 non-null float64\n",
      "rougher.state.floatbank10_f_level                     16802 non-null float64\n",
      "secondary_cleaner.output.tail_ag                      16776 non-null float64\n",
      "secondary_cleaner.output.tail_pb                      16764 non-null float64\n",
      "secondary_cleaner.output.tail_sol                     14874 non-null float64\n",
      "secondary_cleaner.output.tail_au                      16778 non-null float64\n",
      "secondary_cleaner.state.floatbank2_a_air              16497 non-null float64\n",
      "secondary_cleaner.state.floatbank2_a_level            16751 non-null float64\n",
      "secondary_cleaner.state.floatbank2_b_air              16705 non-null float64\n",
      "secondary_cleaner.state.floatbank2_b_level            16748 non-null float64\n",
      "secondary_cleaner.state.floatbank3_a_air              16763 non-null float64\n",
      "secondary_cleaner.state.floatbank3_a_level            16747 non-null float64\n",
      "secondary_cleaner.state.floatbank3_b_air              16752 non-null float64\n",
      "secondary_cleaner.state.floatbank3_b_level            16750 non-null float64\n",
      "secondary_cleaner.state.floatbank4_a_air              16731 non-null float64\n",
      "secondary_cleaner.state.floatbank4_a_level            16747 non-null float64\n",
      "secondary_cleaner.state.floatbank4_b_air              16768 non-null float64\n",
      "secondary_cleaner.state.floatbank4_b_level            16767 non-null float64\n",
      "secondary_cleaner.state.floatbank5_a_air              16775 non-null float64\n",
      "secondary_cleaner.state.floatbank5_a_level            16775 non-null float64\n",
      "secondary_cleaner.state.floatbank5_b_air              16775 non-null float64\n",
      "secondary_cleaner.state.floatbank5_b_level            16776 non-null float64\n",
      "secondary_cleaner.state.floatbank6_a_air              16757 non-null float64\n",
      "secondary_cleaner.state.floatbank6_a_level            16775 non-null float64\n",
      "dtypes: float64(86), object(1)\n",
      "memory usage: 11.2+ MB\n"
     ]
    }
   ],
   "source": [
    "train_frame.info()"
   ]
  },
  {
   "cell_type": "code",
   "execution_count": 5,
   "metadata": {},
   "outputs": [
    {
     "name": "stdout",
     "output_type": "stream",
     "text": [
      "<class 'pandas.core.frame.DataFrame'>\n",
      "RangeIndex: 5856 entries, 0 to 5855\n",
      "Data columns (total 53 columns):\n",
      "date                                          5856 non-null object\n",
      "primary_cleaner.input.sulfate                 5554 non-null float64\n",
      "primary_cleaner.input.depressant              5572 non-null float64\n",
      "primary_cleaner.input.feed_size               5856 non-null float64\n",
      "primary_cleaner.input.xanthate                5690 non-null float64\n",
      "primary_cleaner.state.floatbank8_a_air        5840 non-null float64\n",
      "primary_cleaner.state.floatbank8_a_level      5840 non-null float64\n",
      "primary_cleaner.state.floatbank8_b_air        5840 non-null float64\n",
      "primary_cleaner.state.floatbank8_b_level      5840 non-null float64\n",
      "primary_cleaner.state.floatbank8_c_air        5840 non-null float64\n",
      "primary_cleaner.state.floatbank8_c_level      5840 non-null float64\n",
      "primary_cleaner.state.floatbank8_d_air        5840 non-null float64\n",
      "primary_cleaner.state.floatbank8_d_level      5840 non-null float64\n",
      "rougher.input.feed_ag                         5840 non-null float64\n",
      "rougher.input.feed_pb                         5840 non-null float64\n",
      "rougher.input.feed_rate                       5816 non-null float64\n",
      "rougher.input.feed_size                       5834 non-null float64\n",
      "rougher.input.feed_sol                        5789 non-null float64\n",
      "rougher.input.feed_au                         5840 non-null float64\n",
      "rougher.input.floatbank10_sulfate             5599 non-null float64\n",
      "rougher.input.floatbank10_xanthate            5733 non-null float64\n",
      "rougher.input.floatbank11_sulfate             5801 non-null float64\n",
      "rougher.input.floatbank11_xanthate            5503 non-null float64\n",
      "rougher.state.floatbank10_a_air               5839 non-null float64\n",
      "rougher.state.floatbank10_a_level             5840 non-null float64\n",
      "rougher.state.floatbank10_b_air               5839 non-null float64\n",
      "rougher.state.floatbank10_b_level             5840 non-null float64\n",
      "rougher.state.floatbank10_c_air               5839 non-null float64\n",
      "rougher.state.floatbank10_c_level             5840 non-null float64\n",
      "rougher.state.floatbank10_d_air               5839 non-null float64\n",
      "rougher.state.floatbank10_d_level             5840 non-null float64\n",
      "rougher.state.floatbank10_e_air               5839 non-null float64\n",
      "rougher.state.floatbank10_e_level             5840 non-null float64\n",
      "rougher.state.floatbank10_f_air               5839 non-null float64\n",
      "rougher.state.floatbank10_f_level             5840 non-null float64\n",
      "secondary_cleaner.state.floatbank2_a_air      5836 non-null float64\n",
      "secondary_cleaner.state.floatbank2_a_level    5840 non-null float64\n",
      "secondary_cleaner.state.floatbank2_b_air      5833 non-null float64\n",
      "secondary_cleaner.state.floatbank2_b_level    5840 non-null float64\n",
      "secondary_cleaner.state.floatbank3_a_air      5822 non-null float64\n",
      "secondary_cleaner.state.floatbank3_a_level    5840 non-null float64\n",
      "secondary_cleaner.state.floatbank3_b_air      5840 non-null float64\n",
      "secondary_cleaner.state.floatbank3_b_level    5840 non-null float64\n",
      "secondary_cleaner.state.floatbank4_a_air      5840 non-null float64\n",
      "secondary_cleaner.state.floatbank4_a_level    5840 non-null float64\n",
      "secondary_cleaner.state.floatbank4_b_air      5840 non-null float64\n",
      "secondary_cleaner.state.floatbank4_b_level    5840 non-null float64\n",
      "secondary_cleaner.state.floatbank5_a_air      5840 non-null float64\n",
      "secondary_cleaner.state.floatbank5_a_level    5840 non-null float64\n",
      "secondary_cleaner.state.floatbank5_b_air      5840 non-null float64\n",
      "secondary_cleaner.state.floatbank5_b_level    5840 non-null float64\n",
      "secondary_cleaner.state.floatbank6_a_air      5840 non-null float64\n",
      "secondary_cleaner.state.floatbank6_a_level    5840 non-null float64\n",
      "dtypes: float64(52), object(1)\n",
      "memory usage: 2.4+ MB\n"
     ]
    }
   ],
   "source": [
    "test_frame.info()"
   ]
  },
  {
   "cell_type": "code",
   "execution_count": 6,
   "metadata": {},
   "outputs": [
    {
     "name": "stdout",
     "output_type": "stream",
     "text": [
      "<class 'pandas.core.frame.DataFrame'>\n",
      "RangeIndex: 22716 entries, 0 to 22715\n",
      "Data columns (total 87 columns):\n",
      "date                                                  22716 non-null object\n",
      "final.output.concentrate_ag                           22627 non-null float64\n",
      "final.output.concentrate_pb                           22629 non-null float64\n",
      "final.output.concentrate_sol                          22331 non-null float64\n",
      "final.output.concentrate_au                           22630 non-null float64\n",
      "final.output.recovery                                 20753 non-null float64\n",
      "final.output.tail_ag                                  22633 non-null float64\n",
      "final.output.tail_pb                                  22516 non-null float64\n",
      "final.output.tail_sol                                 22445 non-null float64\n",
      "final.output.tail_au                                  22635 non-null float64\n",
      "primary_cleaner.input.sulfate                         21107 non-null float64\n",
      "primary_cleaner.input.depressant                      21170 non-null float64\n",
      "primary_cleaner.input.feed_size                       22716 non-null float64\n",
      "primary_cleaner.input.xanthate                        21565 non-null float64\n",
      "primary_cleaner.output.concentrate_ag                 22618 non-null float64\n",
      "primary_cleaner.output.concentrate_pb                 22268 non-null float64\n",
      "primary_cleaner.output.concentrate_sol                21918 non-null float64\n",
      "primary_cleaner.output.concentrate_au                 22618 non-null float64\n",
      "primary_cleaner.output.tail_ag                        22614 non-null float64\n",
      "primary_cleaner.output.tail_pb                        22594 non-null float64\n",
      "primary_cleaner.output.tail_sol                       22365 non-null float64\n",
      "primary_cleaner.output.tail_au                        22617 non-null float64\n",
      "primary_cleaner.state.floatbank8_a_air                22660 non-null float64\n",
      "primary_cleaner.state.floatbank8_a_level              22667 non-null float64\n",
      "primary_cleaner.state.floatbank8_b_air                22660 non-null float64\n",
      "primary_cleaner.state.floatbank8_b_level              22673 non-null float64\n",
      "primary_cleaner.state.floatbank8_c_air                22662 non-null float64\n",
      "primary_cleaner.state.floatbank8_c_level              22673 non-null float64\n",
      "primary_cleaner.state.floatbank8_d_air                22661 non-null float64\n",
      "primary_cleaner.state.floatbank8_d_level              22673 non-null float64\n",
      "rougher.calculation.sulfate_to_au_concentrate         22672 non-null float64\n",
      "rougher.calculation.floatbank10_sulfate_to_au_feed    22672 non-null float64\n",
      "rougher.calculation.floatbank11_sulfate_to_au_feed    22672 non-null float64\n",
      "rougher.calculation.au_pb_ratio                       21089 non-null float64\n",
      "rougher.input.feed_ag                                 22618 non-null float64\n",
      "rougher.input.feed_pb                                 22472 non-null float64\n",
      "rougher.input.feed_rate                               22163 non-null float64\n",
      "rougher.input.feed_size                               22277 non-null float64\n",
      "rougher.input.feed_sol                                22357 non-null float64\n",
      "rougher.input.feed_au                                 22617 non-null float64\n",
      "rougher.input.floatbank10_sulfate                     21415 non-null float64\n",
      "rougher.input.floatbank10_xanthate                    22247 non-null float64\n",
      "rougher.input.floatbank11_sulfate                     22038 non-null float64\n",
      "rougher.input.floatbank11_xanthate                    20459 non-null float64\n",
      "rougher.output.concentrate_ag                         22618 non-null float64\n",
      "rougher.output.concentrate_pb                         22618 non-null float64\n",
      "rougher.output.concentrate_sol                        22526 non-null float64\n",
      "rougher.output.concentrate_au                         22618 non-null float64\n",
      "rougher.output.recovery                               19597 non-null float64\n",
      "rougher.output.tail_ag                                19979 non-null float64\n",
      "rougher.output.tail_pb                                22618 non-null float64\n",
      "rougher.output.tail_sol                               19980 non-null float64\n",
      "rougher.output.tail_au                                19980 non-null float64\n",
      "rougher.state.floatbank10_a_air                       22646 non-null float64\n",
      "rougher.state.floatbank10_a_level                     22647 non-null float64\n",
      "rougher.state.floatbank10_b_air                       22646 non-null float64\n",
      "rougher.state.floatbank10_b_level                     22647 non-null float64\n",
      "rougher.state.floatbank10_c_air                       22646 non-null float64\n",
      "rougher.state.floatbank10_c_level                     22654 non-null float64\n",
      "rougher.state.floatbank10_d_air                       22641 non-null float64\n",
      "rougher.state.floatbank10_d_level                     22649 non-null float64\n",
      "rougher.state.floatbank10_e_air                       22096 non-null float64\n",
      "rougher.state.floatbank10_e_level                     22649 non-null float64\n",
      "rougher.state.floatbank10_f_air                       22641 non-null float64\n",
      "rougher.state.floatbank10_f_level                     22642 non-null float64\n",
      "secondary_cleaner.output.tail_ag                      22616 non-null float64\n",
      "secondary_cleaner.output.tail_pb                      22600 non-null float64\n",
      "secondary_cleaner.output.tail_sol                     20501 non-null float64\n",
      "secondary_cleaner.output.tail_au                      22618 non-null float64\n",
      "secondary_cleaner.state.floatbank2_a_air              22333 non-null float64\n",
      "secondary_cleaner.state.floatbank2_a_level            22591 non-null float64\n",
      "secondary_cleaner.state.floatbank2_b_air              22538 non-null float64\n",
      "secondary_cleaner.state.floatbank2_b_level            22588 non-null float64\n",
      "secondary_cleaner.state.floatbank3_a_air              22585 non-null float64\n",
      "secondary_cleaner.state.floatbank3_a_level            22587 non-null float64\n",
      "secondary_cleaner.state.floatbank3_b_air              22592 non-null float64\n",
      "secondary_cleaner.state.floatbank3_b_level            22590 non-null float64\n",
      "secondary_cleaner.state.floatbank4_a_air              22571 non-null float64\n",
      "secondary_cleaner.state.floatbank4_a_level            22587 non-null float64\n",
      "secondary_cleaner.state.floatbank4_b_air              22608 non-null float64\n",
      "secondary_cleaner.state.floatbank4_b_level            22607 non-null float64\n",
      "secondary_cleaner.state.floatbank5_a_air              22615 non-null float64\n",
      "secondary_cleaner.state.floatbank5_a_level            22615 non-null float64\n",
      "secondary_cleaner.state.floatbank5_b_air              22615 non-null float64\n",
      "secondary_cleaner.state.floatbank5_b_level            22616 non-null float64\n",
      "secondary_cleaner.state.floatbank6_a_air              22597 non-null float64\n",
      "secondary_cleaner.state.floatbank6_a_level            22615 non-null float64\n",
      "dtypes: float64(86), object(1)\n",
      "memory usage: 15.1+ MB\n"
     ]
    }
   ],
   "source": [
    "full_frame.info()"
   ]
  },
  {
   "cell_type": "code",
   "execution_count": 7,
   "metadata": {},
   "outputs": [
    {
     "data": {
      "text/html": [
       "<div>\n",
       "<style scoped>\n",
       "    .dataframe tbody tr th:only-of-type {\n",
       "        vertical-align: middle;\n",
       "    }\n",
       "\n",
       "    .dataframe tbody tr th {\n",
       "        vertical-align: top;\n",
       "    }\n",
       "\n",
       "    .dataframe thead th {\n",
       "        text-align: right;\n",
       "    }\n",
       "</style>\n",
       "<table border=\"1\" class=\"dataframe\">\n",
       "  <thead>\n",
       "    <tr style=\"text-align: right;\">\n",
       "      <th></th>\n",
       "      <th>final.output.concentrate_ag</th>\n",
       "      <th>final.output.concentrate_pb</th>\n",
       "      <th>final.output.concentrate_sol</th>\n",
       "      <th>final.output.concentrate_au</th>\n",
       "      <th>final.output.recovery</th>\n",
       "      <th>final.output.tail_ag</th>\n",
       "      <th>final.output.tail_pb</th>\n",
       "      <th>final.output.tail_sol</th>\n",
       "      <th>final.output.tail_au</th>\n",
       "      <th>primary_cleaner.input.sulfate</th>\n",
       "      <th>...</th>\n",
       "      <th>secondary_cleaner.state.floatbank4_a_air</th>\n",
       "      <th>secondary_cleaner.state.floatbank4_a_level</th>\n",
       "      <th>secondary_cleaner.state.floatbank4_b_air</th>\n",
       "      <th>secondary_cleaner.state.floatbank4_b_level</th>\n",
       "      <th>secondary_cleaner.state.floatbank5_a_air</th>\n",
       "      <th>secondary_cleaner.state.floatbank5_a_level</th>\n",
       "      <th>secondary_cleaner.state.floatbank5_b_air</th>\n",
       "      <th>secondary_cleaner.state.floatbank5_b_level</th>\n",
       "      <th>secondary_cleaner.state.floatbank6_a_air</th>\n",
       "      <th>secondary_cleaner.state.floatbank6_a_level</th>\n",
       "    </tr>\n",
       "  </thead>\n",
       "  <tbody>\n",
       "    <tr>\n",
       "      <td>count</td>\n",
       "      <td>16788.000000</td>\n",
       "      <td>16788.000000</td>\n",
       "      <td>16490.000000</td>\n",
       "      <td>16789.000000</td>\n",
       "      <td>15339.000000</td>\n",
       "      <td>16794.000000</td>\n",
       "      <td>16677.000000</td>\n",
       "      <td>16715.000000</td>\n",
       "      <td>16794.000000</td>\n",
       "      <td>15553.000000</td>\n",
       "      <td>...</td>\n",
       "      <td>16731.000000</td>\n",
       "      <td>16747.000000</td>\n",
       "      <td>16768.000000</td>\n",
       "      <td>16767.000000</td>\n",
       "      <td>16775.000000</td>\n",
       "      <td>16775.000000</td>\n",
       "      <td>16775.000000</td>\n",
       "      <td>16776.000000</td>\n",
       "      <td>16757.000000</td>\n",
       "      <td>16775.000000</td>\n",
       "    </tr>\n",
       "    <tr>\n",
       "      <td>mean</td>\n",
       "      <td>4.716907</td>\n",
       "      <td>9.113559</td>\n",
       "      <td>8.301123</td>\n",
       "      <td>39.467217</td>\n",
       "      <td>67.213166</td>\n",
       "      <td>8.757048</td>\n",
       "      <td>2.360327</td>\n",
       "      <td>9.303932</td>\n",
       "      <td>2.687512</td>\n",
       "      <td>129.479789</td>\n",
       "      <td>...</td>\n",
       "      <td>19.101874</td>\n",
       "      <td>-494.164481</td>\n",
       "      <td>14.778164</td>\n",
       "      <td>-476.600082</td>\n",
       "      <td>15.779488</td>\n",
       "      <td>-500.230146</td>\n",
       "      <td>12.377241</td>\n",
       "      <td>-498.956257</td>\n",
       "      <td>18.429208</td>\n",
       "      <td>-521.801826</td>\n",
       "    </tr>\n",
       "    <tr>\n",
       "      <td>std</td>\n",
       "      <td>2.096718</td>\n",
       "      <td>3.389495</td>\n",
       "      <td>3.825760</td>\n",
       "      <td>13.917227</td>\n",
       "      <td>11.960446</td>\n",
       "      <td>3.634103</td>\n",
       "      <td>1.215576</td>\n",
       "      <td>4.263208</td>\n",
       "      <td>1.272757</td>\n",
       "      <td>45.386931</td>\n",
       "      <td>...</td>\n",
       "      <td>6.883163</td>\n",
       "      <td>84.803334</td>\n",
       "      <td>5.999149</td>\n",
       "      <td>89.381172</td>\n",
       "      <td>6.834703</td>\n",
       "      <td>76.983542</td>\n",
       "      <td>6.219989</td>\n",
       "      <td>82.146207</td>\n",
       "      <td>6.958294</td>\n",
       "      <td>77.170888</td>\n",
       "    </tr>\n",
       "    <tr>\n",
       "      <td>min</td>\n",
       "      <td>0.000000</td>\n",
       "      <td>0.000000</td>\n",
       "      <td>0.000000</td>\n",
       "      <td>0.000000</td>\n",
       "      <td>0.000000</td>\n",
       "      <td>0.000000</td>\n",
       "      <td>0.000000</td>\n",
       "      <td>0.000000</td>\n",
       "      <td>0.000000</td>\n",
       "      <td>0.000003</td>\n",
       "      <td>...</td>\n",
       "      <td>0.000000</td>\n",
       "      <td>-799.920713</td>\n",
       "      <td>0.000000</td>\n",
       "      <td>-800.021781</td>\n",
       "      <td>-0.423260</td>\n",
       "      <td>-799.741097</td>\n",
       "      <td>0.427084</td>\n",
       "      <td>-800.258209</td>\n",
       "      <td>0.024270</td>\n",
       "      <td>-810.473526</td>\n",
       "    </tr>\n",
       "    <tr>\n",
       "      <td>25%</td>\n",
       "      <td>3.971262</td>\n",
       "      <td>8.825748</td>\n",
       "      <td>6.939185</td>\n",
       "      <td>42.055722</td>\n",
       "      <td>62.625685</td>\n",
       "      <td>7.610544</td>\n",
       "      <td>1.641604</td>\n",
       "      <td>7.870275</td>\n",
       "      <td>2.172953</td>\n",
       "      <td>103.064021</td>\n",
       "      <td>...</td>\n",
       "      <td>14.508299</td>\n",
       "      <td>-500.837689</td>\n",
       "      <td>10.741388</td>\n",
       "      <td>-500.269182</td>\n",
       "      <td>10.977713</td>\n",
       "      <td>-500.530594</td>\n",
       "      <td>8.925586</td>\n",
       "      <td>-500.147603</td>\n",
       "      <td>13.977626</td>\n",
       "      <td>-501.080595</td>\n",
       "    </tr>\n",
       "    <tr>\n",
       "      <td>50%</td>\n",
       "      <td>4.869346</td>\n",
       "      <td>10.065316</td>\n",
       "      <td>8.557228</td>\n",
       "      <td>44.498874</td>\n",
       "      <td>67.644601</td>\n",
       "      <td>9.220393</td>\n",
       "      <td>2.453690</td>\n",
       "      <td>10.021968</td>\n",
       "      <td>2.781132</td>\n",
       "      <td>131.783108</td>\n",
       "      <td>...</td>\n",
       "      <td>19.986958</td>\n",
       "      <td>-499.778379</td>\n",
       "      <td>14.943933</td>\n",
       "      <td>-499.593286</td>\n",
       "      <td>15.998340</td>\n",
       "      <td>-499.784231</td>\n",
       "      <td>11.092839</td>\n",
       "      <td>-499.933330</td>\n",
       "      <td>18.034960</td>\n",
       "      <td>-500.109898</td>\n",
       "    </tr>\n",
       "    <tr>\n",
       "      <td>75%</td>\n",
       "      <td>5.821176</td>\n",
       "      <td>11.054809</td>\n",
       "      <td>10.289741</td>\n",
       "      <td>45.976222</td>\n",
       "      <td>72.824595</td>\n",
       "      <td>10.971110</td>\n",
       "      <td>3.192404</td>\n",
       "      <td>11.648573</td>\n",
       "      <td>3.416936</td>\n",
       "      <td>159.539839</td>\n",
       "      <td>...</td>\n",
       "      <td>24.983961</td>\n",
       "      <td>-494.648754</td>\n",
       "      <td>20.023751</td>\n",
       "      <td>-400.137948</td>\n",
       "      <td>20.000701</td>\n",
       "      <td>-496.531781</td>\n",
       "      <td>15.979467</td>\n",
       "      <td>-498.418000</td>\n",
       "      <td>24.984992</td>\n",
       "      <td>-499.565540</td>\n",
       "    </tr>\n",
       "    <tr>\n",
       "      <td>max</td>\n",
       "      <td>16.001945</td>\n",
       "      <td>17.031899</td>\n",
       "      <td>18.124851</td>\n",
       "      <td>53.611374</td>\n",
       "      <td>100.000000</td>\n",
       "      <td>19.552149</td>\n",
       "      <td>6.086532</td>\n",
       "      <td>22.317730</td>\n",
       "      <td>9.789625</td>\n",
       "      <td>251.999948</td>\n",
       "      <td>...</td>\n",
       "      <td>60.000000</td>\n",
       "      <td>-127.692333</td>\n",
       "      <td>28.003828</td>\n",
       "      <td>-71.472472</td>\n",
       "      <td>63.116298</td>\n",
       "      <td>-275.073125</td>\n",
       "      <td>39.846228</td>\n",
       "      <td>-120.190931</td>\n",
       "      <td>54.876806</td>\n",
       "      <td>-39.784927</td>\n",
       "    </tr>\n",
       "  </tbody>\n",
       "</table>\n",
       "<p>8 rows × 86 columns</p>\n",
       "</div>"
      ],
      "text/plain": [
       "       final.output.concentrate_ag  final.output.concentrate_pb  \\\n",
       "count                 16788.000000                 16788.000000   \n",
       "mean                      4.716907                     9.113559   \n",
       "std                       2.096718                     3.389495   \n",
       "min                       0.000000                     0.000000   \n",
       "25%                       3.971262                     8.825748   \n",
       "50%                       4.869346                    10.065316   \n",
       "75%                       5.821176                    11.054809   \n",
       "max                      16.001945                    17.031899   \n",
       "\n",
       "       final.output.concentrate_sol  final.output.concentrate_au  \\\n",
       "count                  16490.000000                 16789.000000   \n",
       "mean                       8.301123                    39.467217   \n",
       "std                        3.825760                    13.917227   \n",
       "min                        0.000000                     0.000000   \n",
       "25%                        6.939185                    42.055722   \n",
       "50%                        8.557228                    44.498874   \n",
       "75%                       10.289741                    45.976222   \n",
       "max                       18.124851                    53.611374   \n",
       "\n",
       "       final.output.recovery  final.output.tail_ag  final.output.tail_pb  \\\n",
       "count           15339.000000          16794.000000          16677.000000   \n",
       "mean               67.213166              8.757048              2.360327   \n",
       "std                11.960446              3.634103              1.215576   \n",
       "min                 0.000000              0.000000              0.000000   \n",
       "25%                62.625685              7.610544              1.641604   \n",
       "50%                67.644601              9.220393              2.453690   \n",
       "75%                72.824595             10.971110              3.192404   \n",
       "max               100.000000             19.552149              6.086532   \n",
       "\n",
       "       final.output.tail_sol  final.output.tail_au  \\\n",
       "count           16715.000000          16794.000000   \n",
       "mean                9.303932              2.687512   \n",
       "std                 4.263208              1.272757   \n",
       "min                 0.000000              0.000000   \n",
       "25%                 7.870275              2.172953   \n",
       "50%                10.021968              2.781132   \n",
       "75%                11.648573              3.416936   \n",
       "max                22.317730              9.789625   \n",
       "\n",
       "       primary_cleaner.input.sulfate  ...  \\\n",
       "count                   15553.000000  ...   \n",
       "mean                      129.479789  ...   \n",
       "std                        45.386931  ...   \n",
       "min                         0.000003  ...   \n",
       "25%                       103.064021  ...   \n",
       "50%                       131.783108  ...   \n",
       "75%                       159.539839  ...   \n",
       "max                       251.999948  ...   \n",
       "\n",
       "       secondary_cleaner.state.floatbank4_a_air  \\\n",
       "count                              16731.000000   \n",
       "mean                                  19.101874   \n",
       "std                                    6.883163   \n",
       "min                                    0.000000   \n",
       "25%                                   14.508299   \n",
       "50%                                   19.986958   \n",
       "75%                                   24.983961   \n",
       "max                                   60.000000   \n",
       "\n",
       "       secondary_cleaner.state.floatbank4_a_level  \\\n",
       "count                                16747.000000   \n",
       "mean                                  -494.164481   \n",
       "std                                     84.803334   \n",
       "min                                   -799.920713   \n",
       "25%                                   -500.837689   \n",
       "50%                                   -499.778379   \n",
       "75%                                   -494.648754   \n",
       "max                                   -127.692333   \n",
       "\n",
       "       secondary_cleaner.state.floatbank4_b_air  \\\n",
       "count                              16768.000000   \n",
       "mean                                  14.778164   \n",
       "std                                    5.999149   \n",
       "min                                    0.000000   \n",
       "25%                                   10.741388   \n",
       "50%                                   14.943933   \n",
       "75%                                   20.023751   \n",
       "max                                   28.003828   \n",
       "\n",
       "       secondary_cleaner.state.floatbank4_b_level  \\\n",
       "count                                16767.000000   \n",
       "mean                                  -476.600082   \n",
       "std                                     89.381172   \n",
       "min                                   -800.021781   \n",
       "25%                                   -500.269182   \n",
       "50%                                   -499.593286   \n",
       "75%                                   -400.137948   \n",
       "max                                    -71.472472   \n",
       "\n",
       "       secondary_cleaner.state.floatbank5_a_air  \\\n",
       "count                              16775.000000   \n",
       "mean                                  15.779488   \n",
       "std                                    6.834703   \n",
       "min                                   -0.423260   \n",
       "25%                                   10.977713   \n",
       "50%                                   15.998340   \n",
       "75%                                   20.000701   \n",
       "max                                   63.116298   \n",
       "\n",
       "       secondary_cleaner.state.floatbank5_a_level  \\\n",
       "count                                16775.000000   \n",
       "mean                                  -500.230146   \n",
       "std                                     76.983542   \n",
       "min                                   -799.741097   \n",
       "25%                                   -500.530594   \n",
       "50%                                   -499.784231   \n",
       "75%                                   -496.531781   \n",
       "max                                   -275.073125   \n",
       "\n",
       "       secondary_cleaner.state.floatbank5_b_air  \\\n",
       "count                              16775.000000   \n",
       "mean                                  12.377241   \n",
       "std                                    6.219989   \n",
       "min                                    0.427084   \n",
       "25%                                    8.925586   \n",
       "50%                                   11.092839   \n",
       "75%                                   15.979467   \n",
       "max                                   39.846228   \n",
       "\n",
       "       secondary_cleaner.state.floatbank5_b_level  \\\n",
       "count                                16776.000000   \n",
       "mean                                  -498.956257   \n",
       "std                                     82.146207   \n",
       "min                                   -800.258209   \n",
       "25%                                   -500.147603   \n",
       "50%                                   -499.933330   \n",
       "75%                                   -498.418000   \n",
       "max                                   -120.190931   \n",
       "\n",
       "       secondary_cleaner.state.floatbank6_a_air  \\\n",
       "count                              16757.000000   \n",
       "mean                                  18.429208   \n",
       "std                                    6.958294   \n",
       "min                                    0.024270   \n",
       "25%                                   13.977626   \n",
       "50%                                   18.034960   \n",
       "75%                                   24.984992   \n",
       "max                                   54.876806   \n",
       "\n",
       "       secondary_cleaner.state.floatbank6_a_level  \n",
       "count                                16775.000000  \n",
       "mean                                  -521.801826  \n",
       "std                                     77.170888  \n",
       "min                                   -810.473526  \n",
       "25%                                   -501.080595  \n",
       "50%                                   -500.109898  \n",
       "75%                                   -499.565540  \n",
       "max                                    -39.784927  \n",
       "\n",
       "[8 rows x 86 columns]"
      ]
     },
     "execution_count": 7,
     "metadata": {},
     "output_type": "execute_result"
    }
   ],
   "source": [
    "train_frame.describe()"
   ]
  },
  {
   "cell_type": "code",
   "execution_count": 8,
   "metadata": {},
   "outputs": [
    {
     "data": {
      "text/html": [
       "<div>\n",
       "<style scoped>\n",
       "    .dataframe tbody tr th:only-of-type {\n",
       "        vertical-align: middle;\n",
       "    }\n",
       "\n",
       "    .dataframe tbody tr th {\n",
       "        vertical-align: top;\n",
       "    }\n",
       "\n",
       "    .dataframe thead th {\n",
       "        text-align: right;\n",
       "    }\n",
       "</style>\n",
       "<table border=\"1\" class=\"dataframe\">\n",
       "  <thead>\n",
       "    <tr style=\"text-align: right;\">\n",
       "      <th></th>\n",
       "      <th>primary_cleaner.input.sulfate</th>\n",
       "      <th>primary_cleaner.input.depressant</th>\n",
       "      <th>primary_cleaner.input.feed_size</th>\n",
       "      <th>primary_cleaner.input.xanthate</th>\n",
       "      <th>primary_cleaner.state.floatbank8_a_air</th>\n",
       "      <th>primary_cleaner.state.floatbank8_a_level</th>\n",
       "      <th>primary_cleaner.state.floatbank8_b_air</th>\n",
       "      <th>primary_cleaner.state.floatbank8_b_level</th>\n",
       "      <th>primary_cleaner.state.floatbank8_c_air</th>\n",
       "      <th>primary_cleaner.state.floatbank8_c_level</th>\n",
       "      <th>...</th>\n",
       "      <th>secondary_cleaner.state.floatbank4_a_air</th>\n",
       "      <th>secondary_cleaner.state.floatbank4_a_level</th>\n",
       "      <th>secondary_cleaner.state.floatbank4_b_air</th>\n",
       "      <th>secondary_cleaner.state.floatbank4_b_level</th>\n",
       "      <th>secondary_cleaner.state.floatbank5_a_air</th>\n",
       "      <th>secondary_cleaner.state.floatbank5_a_level</th>\n",
       "      <th>secondary_cleaner.state.floatbank5_b_air</th>\n",
       "      <th>secondary_cleaner.state.floatbank5_b_level</th>\n",
       "      <th>secondary_cleaner.state.floatbank6_a_air</th>\n",
       "      <th>secondary_cleaner.state.floatbank6_a_level</th>\n",
       "    </tr>\n",
       "  </thead>\n",
       "  <tbody>\n",
       "    <tr>\n",
       "      <td>count</td>\n",
       "      <td>5554.000000</td>\n",
       "      <td>5572.000000</td>\n",
       "      <td>5856.000000</td>\n",
       "      <td>5690.000000</td>\n",
       "      <td>5840.000000</td>\n",
       "      <td>5840.000000</td>\n",
       "      <td>5840.000000</td>\n",
       "      <td>5840.000000</td>\n",
       "      <td>5840.000000</td>\n",
       "      <td>5840.000000</td>\n",
       "      <td>...</td>\n",
       "      <td>5840.000000</td>\n",
       "      <td>5840.000000</td>\n",
       "      <td>5840.000000</td>\n",
       "      <td>5840.000000</td>\n",
       "      <td>5840.000000</td>\n",
       "      <td>5840.000000</td>\n",
       "      <td>5840.000000</td>\n",
       "      <td>5840.000000</td>\n",
       "      <td>5840.000000</td>\n",
       "      <td>5840.000000</td>\n",
       "    </tr>\n",
       "    <tr>\n",
       "      <td>mean</td>\n",
       "      <td>170.515243</td>\n",
       "      <td>8.482873</td>\n",
       "      <td>7.264651</td>\n",
       "      <td>1.321420</td>\n",
       "      <td>1481.990241</td>\n",
       "      <td>-509.057796</td>\n",
       "      <td>1486.908670</td>\n",
       "      <td>-511.743956</td>\n",
       "      <td>1468.495216</td>\n",
       "      <td>-509.741212</td>\n",
       "      <td>...</td>\n",
       "      <td>15.636031</td>\n",
       "      <td>-516.266074</td>\n",
       "      <td>13.145702</td>\n",
       "      <td>-476.338907</td>\n",
       "      <td>12.308967</td>\n",
       "      <td>-512.208126</td>\n",
       "      <td>9.470986</td>\n",
       "      <td>-505.017827</td>\n",
       "      <td>16.678722</td>\n",
       "      <td>-512.351694</td>\n",
       "    </tr>\n",
       "    <tr>\n",
       "      <td>std</td>\n",
       "      <td>49.608602</td>\n",
       "      <td>3.353105</td>\n",
       "      <td>0.611526</td>\n",
       "      <td>0.693246</td>\n",
       "      <td>310.453166</td>\n",
       "      <td>61.339256</td>\n",
       "      <td>313.224286</td>\n",
       "      <td>67.139074</td>\n",
       "      <td>309.980748</td>\n",
       "      <td>62.671873</td>\n",
       "      <td>...</td>\n",
       "      <td>4.660835</td>\n",
       "      <td>62.756748</td>\n",
       "      <td>4.304086</td>\n",
       "      <td>105.549424</td>\n",
       "      <td>3.762827</td>\n",
       "      <td>58.864651</td>\n",
       "      <td>3.312471</td>\n",
       "      <td>68.785898</td>\n",
       "      <td>5.404514</td>\n",
       "      <td>69.919839</td>\n",
       "    </tr>\n",
       "    <tr>\n",
       "      <td>min</td>\n",
       "      <td>0.000103</td>\n",
       "      <td>0.000031</td>\n",
       "      <td>5.650000</td>\n",
       "      <td>0.000003</td>\n",
       "      <td>0.000000</td>\n",
       "      <td>-799.773788</td>\n",
       "      <td>0.000000</td>\n",
       "      <td>-800.029078</td>\n",
       "      <td>0.000000</td>\n",
       "      <td>-799.995127</td>\n",
       "      <td>...</td>\n",
       "      <td>0.000000</td>\n",
       "      <td>-799.798523</td>\n",
       "      <td>0.000000</td>\n",
       "      <td>-800.836914</td>\n",
       "      <td>-0.223393</td>\n",
       "      <td>-799.661076</td>\n",
       "      <td>0.528083</td>\n",
       "      <td>-800.220337</td>\n",
       "      <td>-0.079426</td>\n",
       "      <td>-809.859706</td>\n",
       "    </tr>\n",
       "    <tr>\n",
       "      <td>25%</td>\n",
       "      <td>143.340022</td>\n",
       "      <td>6.411500</td>\n",
       "      <td>6.885625</td>\n",
       "      <td>0.888769</td>\n",
       "      <td>1497.190681</td>\n",
       "      <td>-500.455211</td>\n",
       "      <td>1497.150234</td>\n",
       "      <td>-500.936639</td>\n",
       "      <td>1437.050321</td>\n",
       "      <td>-501.300441</td>\n",
       "      <td>...</td>\n",
       "      <td>12.057838</td>\n",
       "      <td>-501.054741</td>\n",
       "      <td>11.880119</td>\n",
       "      <td>-500.419113</td>\n",
       "      <td>10.123459</td>\n",
       "      <td>-500.879383</td>\n",
       "      <td>7.991208</td>\n",
       "      <td>-500.223089</td>\n",
       "      <td>13.012422</td>\n",
       "      <td>-500.833821</td>\n",
       "    </tr>\n",
       "    <tr>\n",
       "      <td>50%</td>\n",
       "      <td>176.103893</td>\n",
       "      <td>8.023252</td>\n",
       "      <td>7.259333</td>\n",
       "      <td>1.183362</td>\n",
       "      <td>1554.659783</td>\n",
       "      <td>-499.997402</td>\n",
       "      <td>1553.268084</td>\n",
       "      <td>-500.066588</td>\n",
       "      <td>1546.160672</td>\n",
       "      <td>-500.079537</td>\n",
       "      <td>...</td>\n",
       "      <td>17.001867</td>\n",
       "      <td>-500.160145</td>\n",
       "      <td>14.952102</td>\n",
       "      <td>-499.644328</td>\n",
       "      <td>12.062877</td>\n",
       "      <td>-500.047621</td>\n",
       "      <td>9.980774</td>\n",
       "      <td>-500.001338</td>\n",
       "      <td>16.007242</td>\n",
       "      <td>-500.041085</td>\n",
       "    </tr>\n",
       "    <tr>\n",
       "      <td>75%</td>\n",
       "      <td>207.240761</td>\n",
       "      <td>10.017725</td>\n",
       "      <td>7.650000</td>\n",
       "      <td>1.763797</td>\n",
       "      <td>1601.681656</td>\n",
       "      <td>-499.575313</td>\n",
       "      <td>1601.784707</td>\n",
       "      <td>-499.323361</td>\n",
       "      <td>1600.785573</td>\n",
       "      <td>-499.009545</td>\n",
       "      <td>...</td>\n",
       "      <td>18.030985</td>\n",
       "      <td>-499.441529</td>\n",
       "      <td>15.940011</td>\n",
       "      <td>-401.523664</td>\n",
       "      <td>15.017881</td>\n",
       "      <td>-499.297033</td>\n",
       "      <td>11.992176</td>\n",
       "      <td>-499.722835</td>\n",
       "      <td>21.009076</td>\n",
       "      <td>-499.395621</td>\n",
       "    </tr>\n",
       "    <tr>\n",
       "      <td>max</td>\n",
       "      <td>274.409626</td>\n",
       "      <td>40.024582</td>\n",
       "      <td>15.500000</td>\n",
       "      <td>5.433169</td>\n",
       "      <td>2212.432090</td>\n",
       "      <td>-57.195404</td>\n",
       "      <td>1975.147923</td>\n",
       "      <td>-142.527229</td>\n",
       "      <td>1715.053773</td>\n",
       "      <td>-150.937035</td>\n",
       "      <td>...</td>\n",
       "      <td>30.051797</td>\n",
       "      <td>-401.565212</td>\n",
       "      <td>31.269706</td>\n",
       "      <td>-6.506986</td>\n",
       "      <td>25.258848</td>\n",
       "      <td>-244.483566</td>\n",
       "      <td>14.090194</td>\n",
       "      <td>-126.463446</td>\n",
       "      <td>26.705889</td>\n",
       "      <td>-29.093593</td>\n",
       "    </tr>\n",
       "  </tbody>\n",
       "</table>\n",
       "<p>8 rows × 52 columns</p>\n",
       "</div>"
      ],
      "text/plain": [
       "       primary_cleaner.input.sulfate  primary_cleaner.input.depressant  \\\n",
       "count                    5554.000000                       5572.000000   \n",
       "mean                      170.515243                          8.482873   \n",
       "std                        49.608602                          3.353105   \n",
       "min                         0.000103                          0.000031   \n",
       "25%                       143.340022                          6.411500   \n",
       "50%                       176.103893                          8.023252   \n",
       "75%                       207.240761                         10.017725   \n",
       "max                       274.409626                         40.024582   \n",
       "\n",
       "       primary_cleaner.input.feed_size  primary_cleaner.input.xanthate  \\\n",
       "count                      5856.000000                     5690.000000   \n",
       "mean                          7.264651                        1.321420   \n",
       "std                           0.611526                        0.693246   \n",
       "min                           5.650000                        0.000003   \n",
       "25%                           6.885625                        0.888769   \n",
       "50%                           7.259333                        1.183362   \n",
       "75%                           7.650000                        1.763797   \n",
       "max                          15.500000                        5.433169   \n",
       "\n",
       "       primary_cleaner.state.floatbank8_a_air  \\\n",
       "count                             5840.000000   \n",
       "mean                              1481.990241   \n",
       "std                                310.453166   \n",
       "min                                  0.000000   \n",
       "25%                               1497.190681   \n",
       "50%                               1554.659783   \n",
       "75%                               1601.681656   \n",
       "max                               2212.432090   \n",
       "\n",
       "       primary_cleaner.state.floatbank8_a_level  \\\n",
       "count                               5840.000000   \n",
       "mean                                -509.057796   \n",
       "std                                   61.339256   \n",
       "min                                 -799.773788   \n",
       "25%                                 -500.455211   \n",
       "50%                                 -499.997402   \n",
       "75%                                 -499.575313   \n",
       "max                                  -57.195404   \n",
       "\n",
       "       primary_cleaner.state.floatbank8_b_air  \\\n",
       "count                             5840.000000   \n",
       "mean                              1486.908670   \n",
       "std                                313.224286   \n",
       "min                                  0.000000   \n",
       "25%                               1497.150234   \n",
       "50%                               1553.268084   \n",
       "75%                               1601.784707   \n",
       "max                               1975.147923   \n",
       "\n",
       "       primary_cleaner.state.floatbank8_b_level  \\\n",
       "count                               5840.000000   \n",
       "mean                                -511.743956   \n",
       "std                                   67.139074   \n",
       "min                                 -800.029078   \n",
       "25%                                 -500.936639   \n",
       "50%                                 -500.066588   \n",
       "75%                                 -499.323361   \n",
       "max                                 -142.527229   \n",
       "\n",
       "       primary_cleaner.state.floatbank8_c_air  \\\n",
       "count                             5840.000000   \n",
       "mean                              1468.495216   \n",
       "std                                309.980748   \n",
       "min                                  0.000000   \n",
       "25%                               1437.050321   \n",
       "50%                               1546.160672   \n",
       "75%                               1600.785573   \n",
       "max                               1715.053773   \n",
       "\n",
       "       primary_cleaner.state.floatbank8_c_level  ...  \\\n",
       "count                               5840.000000  ...   \n",
       "mean                                -509.741212  ...   \n",
       "std                                   62.671873  ...   \n",
       "min                                 -799.995127  ...   \n",
       "25%                                 -501.300441  ...   \n",
       "50%                                 -500.079537  ...   \n",
       "75%                                 -499.009545  ...   \n",
       "max                                 -150.937035  ...   \n",
       "\n",
       "       secondary_cleaner.state.floatbank4_a_air  \\\n",
       "count                               5840.000000   \n",
       "mean                                  15.636031   \n",
       "std                                    4.660835   \n",
       "min                                    0.000000   \n",
       "25%                                   12.057838   \n",
       "50%                                   17.001867   \n",
       "75%                                   18.030985   \n",
       "max                                   30.051797   \n",
       "\n",
       "       secondary_cleaner.state.floatbank4_a_level  \\\n",
       "count                                 5840.000000   \n",
       "mean                                  -516.266074   \n",
       "std                                     62.756748   \n",
       "min                                   -799.798523   \n",
       "25%                                   -501.054741   \n",
       "50%                                   -500.160145   \n",
       "75%                                   -499.441529   \n",
       "max                                   -401.565212   \n",
       "\n",
       "       secondary_cleaner.state.floatbank4_b_air  \\\n",
       "count                               5840.000000   \n",
       "mean                                  13.145702   \n",
       "std                                    4.304086   \n",
       "min                                    0.000000   \n",
       "25%                                   11.880119   \n",
       "50%                                   14.952102   \n",
       "75%                                   15.940011   \n",
       "max                                   31.269706   \n",
       "\n",
       "       secondary_cleaner.state.floatbank4_b_level  \\\n",
       "count                                 5840.000000   \n",
       "mean                                  -476.338907   \n",
       "std                                    105.549424   \n",
       "min                                   -800.836914   \n",
       "25%                                   -500.419113   \n",
       "50%                                   -499.644328   \n",
       "75%                                   -401.523664   \n",
       "max                                     -6.506986   \n",
       "\n",
       "       secondary_cleaner.state.floatbank5_a_air  \\\n",
       "count                               5840.000000   \n",
       "mean                                  12.308967   \n",
       "std                                    3.762827   \n",
       "min                                   -0.223393   \n",
       "25%                                   10.123459   \n",
       "50%                                   12.062877   \n",
       "75%                                   15.017881   \n",
       "max                                   25.258848   \n",
       "\n",
       "       secondary_cleaner.state.floatbank5_a_level  \\\n",
       "count                                 5840.000000   \n",
       "mean                                  -512.208126   \n",
       "std                                     58.864651   \n",
       "min                                   -799.661076   \n",
       "25%                                   -500.879383   \n",
       "50%                                   -500.047621   \n",
       "75%                                   -499.297033   \n",
       "max                                   -244.483566   \n",
       "\n",
       "       secondary_cleaner.state.floatbank5_b_air  \\\n",
       "count                               5840.000000   \n",
       "mean                                   9.470986   \n",
       "std                                    3.312471   \n",
       "min                                    0.528083   \n",
       "25%                                    7.991208   \n",
       "50%                                    9.980774   \n",
       "75%                                   11.992176   \n",
       "max                                   14.090194   \n",
       "\n",
       "       secondary_cleaner.state.floatbank5_b_level  \\\n",
       "count                                 5840.000000   \n",
       "mean                                  -505.017827   \n",
       "std                                     68.785898   \n",
       "min                                   -800.220337   \n",
       "25%                                   -500.223089   \n",
       "50%                                   -500.001338   \n",
       "75%                                   -499.722835   \n",
       "max                                   -126.463446   \n",
       "\n",
       "       secondary_cleaner.state.floatbank6_a_air  \\\n",
       "count                               5840.000000   \n",
       "mean                                  16.678722   \n",
       "std                                    5.404514   \n",
       "min                                   -0.079426   \n",
       "25%                                   13.012422   \n",
       "50%                                   16.007242   \n",
       "75%                                   21.009076   \n",
       "max                                   26.705889   \n",
       "\n",
       "       secondary_cleaner.state.floatbank6_a_level  \n",
       "count                                 5840.000000  \n",
       "mean                                  -512.351694  \n",
       "std                                     69.919839  \n",
       "min                                   -809.859706  \n",
       "25%                                   -500.833821  \n",
       "50%                                   -500.041085  \n",
       "75%                                   -499.395621  \n",
       "max                                    -29.093593  \n",
       "\n",
       "[8 rows x 52 columns]"
      ]
     },
     "execution_count": 8,
     "metadata": {},
     "output_type": "execute_result"
    }
   ],
   "source": [
    "test_frame.describe()"
   ]
  },
  {
   "cell_type": "code",
   "execution_count": 9,
   "metadata": {},
   "outputs": [
    {
     "data": {
      "text/html": [
       "<div>\n",
       "<style scoped>\n",
       "    .dataframe tbody tr th:only-of-type {\n",
       "        vertical-align: middle;\n",
       "    }\n",
       "\n",
       "    .dataframe tbody tr th {\n",
       "        vertical-align: top;\n",
       "    }\n",
       "\n",
       "    .dataframe thead th {\n",
       "        text-align: right;\n",
       "    }\n",
       "</style>\n",
       "<table border=\"1\" class=\"dataframe\">\n",
       "  <thead>\n",
       "    <tr style=\"text-align: right;\">\n",
       "      <th></th>\n",
       "      <th>final.output.concentrate_ag</th>\n",
       "      <th>final.output.concentrate_pb</th>\n",
       "      <th>final.output.concentrate_sol</th>\n",
       "      <th>final.output.concentrate_au</th>\n",
       "      <th>final.output.recovery</th>\n",
       "      <th>final.output.tail_ag</th>\n",
       "      <th>final.output.tail_pb</th>\n",
       "      <th>final.output.tail_sol</th>\n",
       "      <th>final.output.tail_au</th>\n",
       "      <th>primary_cleaner.input.sulfate</th>\n",
       "      <th>...</th>\n",
       "      <th>secondary_cleaner.state.floatbank4_a_air</th>\n",
       "      <th>secondary_cleaner.state.floatbank4_a_level</th>\n",
       "      <th>secondary_cleaner.state.floatbank4_b_air</th>\n",
       "      <th>secondary_cleaner.state.floatbank4_b_level</th>\n",
       "      <th>secondary_cleaner.state.floatbank5_a_air</th>\n",
       "      <th>secondary_cleaner.state.floatbank5_a_level</th>\n",
       "      <th>secondary_cleaner.state.floatbank5_b_air</th>\n",
       "      <th>secondary_cleaner.state.floatbank5_b_level</th>\n",
       "      <th>secondary_cleaner.state.floatbank6_a_air</th>\n",
       "      <th>secondary_cleaner.state.floatbank6_a_level</th>\n",
       "    </tr>\n",
       "  </thead>\n",
       "  <tbody>\n",
       "    <tr>\n",
       "      <td>count</td>\n",
       "      <td>22627.000000</td>\n",
       "      <td>22629.000000</td>\n",
       "      <td>22331.000000</td>\n",
       "      <td>22630.000000</td>\n",
       "      <td>20753.000000</td>\n",
       "      <td>22633.000000</td>\n",
       "      <td>22516.000000</td>\n",
       "      <td>22445.000000</td>\n",
       "      <td>22635.000000</td>\n",
       "      <td>21107.000000</td>\n",
       "      <td>...</td>\n",
       "      <td>22571.000000</td>\n",
       "      <td>22587.000000</td>\n",
       "      <td>22608.000000</td>\n",
       "      <td>22607.000000</td>\n",
       "      <td>22615.000000</td>\n",
       "      <td>22615.000000</td>\n",
       "      <td>22615.000000</td>\n",
       "      <td>22616.000000</td>\n",
       "      <td>22597.000000</td>\n",
       "      <td>22615.000000</td>\n",
       "    </tr>\n",
       "    <tr>\n",
       "      <td>mean</td>\n",
       "      <td>4.781559</td>\n",
       "      <td>9.095308</td>\n",
       "      <td>8.640317</td>\n",
       "      <td>40.001172</td>\n",
       "      <td>67.447488</td>\n",
       "      <td>8.923690</td>\n",
       "      <td>2.488252</td>\n",
       "      <td>9.523632</td>\n",
       "      <td>2.827459</td>\n",
       "      <td>140.277672</td>\n",
       "      <td>...</td>\n",
       "      <td>18.205125</td>\n",
       "      <td>-499.878977</td>\n",
       "      <td>14.356474</td>\n",
       "      <td>-476.532613</td>\n",
       "      <td>14.883276</td>\n",
       "      <td>-503.323288</td>\n",
       "      <td>11.626743</td>\n",
       "      <td>-500.521502</td>\n",
       "      <td>17.976810</td>\n",
       "      <td>-519.361465</td>\n",
       "    </tr>\n",
       "    <tr>\n",
       "      <td>std</td>\n",
       "      <td>2.030128</td>\n",
       "      <td>3.230797</td>\n",
       "      <td>3.785035</td>\n",
       "      <td>13.398062</td>\n",
       "      <td>11.616034</td>\n",
       "      <td>3.517917</td>\n",
       "      <td>1.189407</td>\n",
       "      <td>4.079739</td>\n",
       "      <td>1.262834</td>\n",
       "      <td>49.919004</td>\n",
       "      <td>...</td>\n",
       "      <td>6.560700</td>\n",
       "      <td>80.273964</td>\n",
       "      <td>5.655791</td>\n",
       "      <td>93.822791</td>\n",
       "      <td>6.372811</td>\n",
       "      <td>72.925589</td>\n",
       "      <td>5.757449</td>\n",
       "      <td>78.956292</td>\n",
       "      <td>6.636203</td>\n",
       "      <td>75.477151</td>\n",
       "    </tr>\n",
       "    <tr>\n",
       "      <td>min</td>\n",
       "      <td>0.000000</td>\n",
       "      <td>0.000000</td>\n",
       "      <td>0.000000</td>\n",
       "      <td>0.000000</td>\n",
       "      <td>0.000000</td>\n",
       "      <td>0.000000</td>\n",
       "      <td>0.000000</td>\n",
       "      <td>0.000000</td>\n",
       "      <td>0.000000</td>\n",
       "      <td>0.000003</td>\n",
       "      <td>...</td>\n",
       "      <td>0.000000</td>\n",
       "      <td>-799.920713</td>\n",
       "      <td>0.000000</td>\n",
       "      <td>-800.836914</td>\n",
       "      <td>-0.423260</td>\n",
       "      <td>-799.741097</td>\n",
       "      <td>0.427084</td>\n",
       "      <td>-800.258209</td>\n",
       "      <td>-0.079426</td>\n",
       "      <td>-810.473526</td>\n",
       "    </tr>\n",
       "    <tr>\n",
       "      <td>25%</td>\n",
       "      <td>4.018525</td>\n",
       "      <td>8.750171</td>\n",
       "      <td>7.116799</td>\n",
       "      <td>42.383721</td>\n",
       "      <td>63.282393</td>\n",
       "      <td>7.684016</td>\n",
       "      <td>1.805376</td>\n",
       "      <td>8.143576</td>\n",
       "      <td>2.303108</td>\n",
       "      <td>110.177081</td>\n",
       "      <td>...</td>\n",
       "      <td>14.095940</td>\n",
       "      <td>-500.896232</td>\n",
       "      <td>10.882675</td>\n",
       "      <td>-500.309169</td>\n",
       "      <td>10.941299</td>\n",
       "      <td>-500.628697</td>\n",
       "      <td>8.037533</td>\n",
       "      <td>-500.167897</td>\n",
       "      <td>13.968418</td>\n",
       "      <td>-500.981671</td>\n",
       "    </tr>\n",
       "    <tr>\n",
       "      <td>50%</td>\n",
       "      <td>4.953729</td>\n",
       "      <td>9.914519</td>\n",
       "      <td>8.908792</td>\n",
       "      <td>44.653436</td>\n",
       "      <td>68.322258</td>\n",
       "      <td>9.484369</td>\n",
       "      <td>2.653001</td>\n",
       "      <td>10.212998</td>\n",
       "      <td>2.913794</td>\n",
       "      <td>141.330501</td>\n",
       "      <td>...</td>\n",
       "      <td>18.007326</td>\n",
       "      <td>-499.917108</td>\n",
       "      <td>14.947646</td>\n",
       "      <td>-499.612292</td>\n",
       "      <td>14.859117</td>\n",
       "      <td>-499.865158</td>\n",
       "      <td>10.989756</td>\n",
       "      <td>-499.951980</td>\n",
       "      <td>18.004215</td>\n",
       "      <td>-500.095463</td>\n",
       "    </tr>\n",
       "    <tr>\n",
       "      <td>75%</td>\n",
       "      <td>5.862593</td>\n",
       "      <td>10.929839</td>\n",
       "      <td>10.705824</td>\n",
       "      <td>46.111999</td>\n",
       "      <td>72.950836</td>\n",
       "      <td>11.084557</td>\n",
       "      <td>3.287790</td>\n",
       "      <td>11.860824</td>\n",
       "      <td>3.555077</td>\n",
       "      <td>174.049914</td>\n",
       "      <td>...</td>\n",
       "      <td>22.998194</td>\n",
       "      <td>-498.361545</td>\n",
       "      <td>17.977502</td>\n",
       "      <td>-400.224147</td>\n",
       "      <td>18.014914</td>\n",
       "      <td>-498.489381</td>\n",
       "      <td>14.001193</td>\n",
       "      <td>-499.492354</td>\n",
       "      <td>23.009704</td>\n",
       "      <td>-499.526388</td>\n",
       "    </tr>\n",
       "    <tr>\n",
       "      <td>max</td>\n",
       "      <td>16.001945</td>\n",
       "      <td>17.031899</td>\n",
       "      <td>19.615720</td>\n",
       "      <td>53.611374</td>\n",
       "      <td>100.000000</td>\n",
       "      <td>19.552149</td>\n",
       "      <td>6.086532</td>\n",
       "      <td>22.861749</td>\n",
       "      <td>9.789625</td>\n",
       "      <td>274.409626</td>\n",
       "      <td>...</td>\n",
       "      <td>60.000000</td>\n",
       "      <td>-127.692333</td>\n",
       "      <td>31.269706</td>\n",
       "      <td>-6.506986</td>\n",
       "      <td>63.116298</td>\n",
       "      <td>-244.483566</td>\n",
       "      <td>39.846228</td>\n",
       "      <td>-120.190931</td>\n",
       "      <td>54.876806</td>\n",
       "      <td>-29.093593</td>\n",
       "    </tr>\n",
       "  </tbody>\n",
       "</table>\n",
       "<p>8 rows × 86 columns</p>\n",
       "</div>"
      ],
      "text/plain": [
       "       final.output.concentrate_ag  final.output.concentrate_pb  \\\n",
       "count                 22627.000000                 22629.000000   \n",
       "mean                      4.781559                     9.095308   \n",
       "std                       2.030128                     3.230797   \n",
       "min                       0.000000                     0.000000   \n",
       "25%                       4.018525                     8.750171   \n",
       "50%                       4.953729                     9.914519   \n",
       "75%                       5.862593                    10.929839   \n",
       "max                      16.001945                    17.031899   \n",
       "\n",
       "       final.output.concentrate_sol  final.output.concentrate_au  \\\n",
       "count                  22331.000000                 22630.000000   \n",
       "mean                       8.640317                    40.001172   \n",
       "std                        3.785035                    13.398062   \n",
       "min                        0.000000                     0.000000   \n",
       "25%                        7.116799                    42.383721   \n",
       "50%                        8.908792                    44.653436   \n",
       "75%                       10.705824                    46.111999   \n",
       "max                       19.615720                    53.611374   \n",
       "\n",
       "       final.output.recovery  final.output.tail_ag  final.output.tail_pb  \\\n",
       "count           20753.000000          22633.000000          22516.000000   \n",
       "mean               67.447488              8.923690              2.488252   \n",
       "std                11.616034              3.517917              1.189407   \n",
       "min                 0.000000              0.000000              0.000000   \n",
       "25%                63.282393              7.684016              1.805376   \n",
       "50%                68.322258              9.484369              2.653001   \n",
       "75%                72.950836             11.084557              3.287790   \n",
       "max               100.000000             19.552149              6.086532   \n",
       "\n",
       "       final.output.tail_sol  final.output.tail_au  \\\n",
       "count           22445.000000          22635.000000   \n",
       "mean                9.523632              2.827459   \n",
       "std                 4.079739              1.262834   \n",
       "min                 0.000000              0.000000   \n",
       "25%                 8.143576              2.303108   \n",
       "50%                10.212998              2.913794   \n",
       "75%                11.860824              3.555077   \n",
       "max                22.861749              9.789625   \n",
       "\n",
       "       primary_cleaner.input.sulfate  ...  \\\n",
       "count                   21107.000000  ...   \n",
       "mean                      140.277672  ...   \n",
       "std                        49.919004  ...   \n",
       "min                         0.000003  ...   \n",
       "25%                       110.177081  ...   \n",
       "50%                       141.330501  ...   \n",
       "75%                       174.049914  ...   \n",
       "max                       274.409626  ...   \n",
       "\n",
       "       secondary_cleaner.state.floatbank4_a_air  \\\n",
       "count                              22571.000000   \n",
       "mean                                  18.205125   \n",
       "std                                    6.560700   \n",
       "min                                    0.000000   \n",
       "25%                                   14.095940   \n",
       "50%                                   18.007326   \n",
       "75%                                   22.998194   \n",
       "max                                   60.000000   \n",
       "\n",
       "       secondary_cleaner.state.floatbank4_a_level  \\\n",
       "count                                22587.000000   \n",
       "mean                                  -499.878977   \n",
       "std                                     80.273964   \n",
       "min                                   -799.920713   \n",
       "25%                                   -500.896232   \n",
       "50%                                   -499.917108   \n",
       "75%                                   -498.361545   \n",
       "max                                   -127.692333   \n",
       "\n",
       "       secondary_cleaner.state.floatbank4_b_air  \\\n",
       "count                              22608.000000   \n",
       "mean                                  14.356474   \n",
       "std                                    5.655791   \n",
       "min                                    0.000000   \n",
       "25%                                   10.882675   \n",
       "50%                                   14.947646   \n",
       "75%                                   17.977502   \n",
       "max                                   31.269706   \n",
       "\n",
       "       secondary_cleaner.state.floatbank4_b_level  \\\n",
       "count                                22607.000000   \n",
       "mean                                  -476.532613   \n",
       "std                                     93.822791   \n",
       "min                                   -800.836914   \n",
       "25%                                   -500.309169   \n",
       "50%                                   -499.612292   \n",
       "75%                                   -400.224147   \n",
       "max                                     -6.506986   \n",
       "\n",
       "       secondary_cleaner.state.floatbank5_a_air  \\\n",
       "count                              22615.000000   \n",
       "mean                                  14.883276   \n",
       "std                                    6.372811   \n",
       "min                                   -0.423260   \n",
       "25%                                   10.941299   \n",
       "50%                                   14.859117   \n",
       "75%                                   18.014914   \n",
       "max                                   63.116298   \n",
       "\n",
       "       secondary_cleaner.state.floatbank5_a_level  \\\n",
       "count                                22615.000000   \n",
       "mean                                  -503.323288   \n",
       "std                                     72.925589   \n",
       "min                                   -799.741097   \n",
       "25%                                   -500.628697   \n",
       "50%                                   -499.865158   \n",
       "75%                                   -498.489381   \n",
       "max                                   -244.483566   \n",
       "\n",
       "       secondary_cleaner.state.floatbank5_b_air  \\\n",
       "count                              22615.000000   \n",
       "mean                                  11.626743   \n",
       "std                                    5.757449   \n",
       "min                                    0.427084   \n",
       "25%                                    8.037533   \n",
       "50%                                   10.989756   \n",
       "75%                                   14.001193   \n",
       "max                                   39.846228   \n",
       "\n",
       "       secondary_cleaner.state.floatbank5_b_level  \\\n",
       "count                                22616.000000   \n",
       "mean                                  -500.521502   \n",
       "std                                     78.956292   \n",
       "min                                   -800.258209   \n",
       "25%                                   -500.167897   \n",
       "50%                                   -499.951980   \n",
       "75%                                   -499.492354   \n",
       "max                                   -120.190931   \n",
       "\n",
       "       secondary_cleaner.state.floatbank6_a_air  \\\n",
       "count                              22597.000000   \n",
       "mean                                  17.976810   \n",
       "std                                    6.636203   \n",
       "min                                   -0.079426   \n",
       "25%                                   13.968418   \n",
       "50%                                   18.004215   \n",
       "75%                                   23.009704   \n",
       "max                                   54.876806   \n",
       "\n",
       "       secondary_cleaner.state.floatbank6_a_level  \n",
       "count                                22615.000000  \n",
       "mean                                  -519.361465  \n",
       "std                                     75.477151  \n",
       "min                                   -810.473526  \n",
       "25%                                   -500.981671  \n",
       "50%                                   -500.095463  \n",
       "75%                                   -499.526388  \n",
       "max                                    -29.093593  \n",
       "\n",
       "[8 rows x 86 columns]"
      ]
     },
     "execution_count": 9,
     "metadata": {},
     "output_type": "execute_result"
    }
   ],
   "source": [
    "full_frame.describe()"
   ]
  },
  {
   "cell_type": "markdown",
   "metadata": {},
   "source": [
    "###### Проверим корректность расчета параметра recovery"
   ]
  },
  {
   "cell_type": "code",
   "execution_count": 10,
   "metadata": {},
   "outputs": [],
   "source": [
    "def apply_recovery(row):\n",
    "    (input_au,\n",
    "     output_au,\n",
    "     output_tail) = (row[\"rougher.input.feed_au\"],\n",
    "                     row[\"rougher.output.concentrate_au\"],\n",
    "                     row[\"rougher.output.tail_au\"])\n",
    "    recovery_metric = (((output_au) * ((input_au) - (output_tail)))/\n",
    "                       (((input_au) * ((output_au) - (output_tail))))) * 100\n",
    "    return recovery_metric"
   ]
  },
  {
   "cell_type": "code",
   "execution_count": 11,
   "metadata": {},
   "outputs": [],
   "source": [
    "test = train_frame.dropna(subset = [\"rougher.input.feed_au\",\n",
    "                                    \"rougher.output.concentrate_au\",\n",
    "                                    \"rougher.output.tail_au\",\n",
    "                                    \"rougher.output.recovery\"],axis = 0).apply(\n",
    "                                                                        apply_recovery,axis = 1)"
   ]
  },
  {
   "cell_type": "code",
   "execution_count": 12,
   "metadata": {},
   "outputs": [
    {
     "data": {
      "text/plain": [
       "9.444891926100695e-15"
      ]
     },
     "execution_count": 12,
     "metadata": {},
     "output_type": "execute_result"
    }
   ],
   "source": [
    "MAE(train_frame.dropna(subset = [\"rougher.input.feed_au\",\n",
    "                                    \"rougher.output.concentrate_au\",\n",
    "                                    \"rougher.output.tail_au\",\n",
    "                                    \"rougher.output.recovery\"])[\"rougher.output.recovery\"],\n",
    "                       test)"
   ]
  },
  {
   "cell_type": "markdown",
   "metadata": {},
   "source": [
    "###### Найдем все столбцы, которые есть в тренировочной выборке, но нет в тестовой"
   ]
  },
  {
   "cell_type": "code",
   "execution_count": 13,
   "metadata": {},
   "outputs": [],
   "source": [
    "step = collections.Counter()\n",
    "type_step = collections.Counter()\n",
    "data = collections.Counter()\n",
    "list_columns = [i for i in train_frame.columns if i not in test_frame.columns]\n",
    "for i in list_columns:\n",
    "    words = list(map(str,i.split(\".\")))\n",
    "    step[words[0]] += 1\n",
    "    type_step[words[1]] += 1\n",
    "    data[words[2]] += 1"
   ]
  },
  {
   "cell_type": "code",
   "execution_count": 14,
   "metadata": {},
   "outputs": [
    {
     "data": {
      "text/plain": [
       "['final.output.concentrate_ag',\n",
       " 'final.output.concentrate_pb',\n",
       " 'final.output.concentrate_sol',\n",
       " 'final.output.concentrate_au',\n",
       " 'final.output.recovery',\n",
       " 'final.output.tail_ag',\n",
       " 'final.output.tail_pb',\n",
       " 'final.output.tail_sol',\n",
       " 'final.output.tail_au',\n",
       " 'primary_cleaner.output.concentrate_ag',\n",
       " 'primary_cleaner.output.concentrate_pb',\n",
       " 'primary_cleaner.output.concentrate_sol',\n",
       " 'primary_cleaner.output.concentrate_au',\n",
       " 'primary_cleaner.output.tail_ag',\n",
       " 'primary_cleaner.output.tail_pb',\n",
       " 'primary_cleaner.output.tail_sol',\n",
       " 'primary_cleaner.output.tail_au',\n",
       " 'rougher.calculation.sulfate_to_au_concentrate',\n",
       " 'rougher.calculation.floatbank10_sulfate_to_au_feed',\n",
       " 'rougher.calculation.floatbank11_sulfate_to_au_feed',\n",
       " 'rougher.calculation.au_pb_ratio',\n",
       " 'rougher.output.concentrate_ag',\n",
       " 'rougher.output.concentrate_pb',\n",
       " 'rougher.output.concentrate_sol',\n",
       " 'rougher.output.concentrate_au',\n",
       " 'rougher.output.recovery',\n",
       " 'rougher.output.tail_ag',\n",
       " 'rougher.output.tail_pb',\n",
       " 'rougher.output.tail_sol',\n",
       " 'rougher.output.tail_au',\n",
       " 'secondary_cleaner.output.tail_ag',\n",
       " 'secondary_cleaner.output.tail_pb',\n",
       " 'secondary_cleaner.output.tail_sol',\n",
       " 'secondary_cleaner.output.tail_au']"
      ]
     },
     "execution_count": 14,
     "metadata": {},
     "output_type": "execute_result"
    }
   ],
   "source": [
    "list_columns"
   ]
  },
  {
   "cell_type": "markdown",
   "metadata": {},
   "source": [
    "Более подробно изучим найденные столбцы"
   ]
  },
  {
   "cell_type": "code",
   "execution_count": 15,
   "metadata": {},
   "outputs": [
    {
     "data": {
      "text/plain": [
       "(Counter({'final': 9,\n",
       "          'primary_cleaner': 8,\n",
       "          'rougher': 13,\n",
       "          'secondary_cleaner': 4}),\n",
       " '\\n',\n",
       " Counter({'output': 30, 'calculation': 4}),\n",
       " '\\n',\n",
       " Counter({'concentrate_ag': 3,\n",
       "          'concentrate_pb': 3,\n",
       "          'concentrate_sol': 3,\n",
       "          'concentrate_au': 3,\n",
       "          'recovery': 2,\n",
       "          'tail_ag': 4,\n",
       "          'tail_pb': 4,\n",
       "          'tail_sol': 4,\n",
       "          'tail_au': 4,\n",
       "          'sulfate_to_au_concentrate': 1,\n",
       "          'floatbank10_sulfate_to_au_feed': 1,\n",
       "          'floatbank11_sulfate_to_au_feed': 1,\n",
       "          'au_pb_ratio': 1}))"
      ]
     },
     "execution_count": 15,
     "metadata": {},
     "output_type": "execute_result"
    }
   ],
   "source": [
    "step,\"\\n\",type_step,\"\\n\",data"
   ]
  },
  {
   "cell_type": "markdown",
   "metadata": {},
   "source": [
    "###### Вывод"
   ]
  },
  {
   "cell_type": "markdown",
   "metadata": {},
   "source": [
    "Заметим, что из 34 пропущенных признака 30 относятся к параметрам продукта и только 4 к расчетным характеристикам\n",
    "\n",
    "9 пропущенных признаков этапа final, 8 primary_cleaner, 9 rougher, 4 secondary_cleaner относятся к параметрам продукта\n",
    "4 пропущенных признака этапа rougher относятся к расчетным характеристикам\n",
    "На всех этапах отсутствует информация о хвостовых частях\n",
    "Во всех этапах, кроме повторной очистки отсутствует информация о доле металлов\n",
    "У финального этапа и этапа флотации отсутствуют признаки обогащения\n",
    "Так же отсутствуют данные о некоторых реагентах на этапе флотации"
   ]
  },
  {
   "cell_type": "markdown",
   "metadata": {},
   "source": [
    "###### Проверим возможность восстановления параметра recovery"
   ]
  },
  {
   "cell_type": "code",
   "execution_count": 16,
   "metadata": {},
   "outputs": [],
   "source": [
    "train_frame = train_frame.dropna(subset=[\"rougher.output.recovery\",\"final.output.recovery\"],axis = 0)"
   ]
  },
  {
   "cell_type": "markdown",
   "metadata": {},
   "source": [
    "###### Обработаем пропуски"
   ]
  },
  {
   "cell_type": "code",
   "execution_count": 20,
   "metadata": {},
   "outputs": [
    {
     "name": "stdout",
     "output_type": "stream",
     "text": [
      "Defaulting to user installation because normal site-packages is not writeable\n",
      "Collecting sklearn\n",
      "  Downloading sklearn-0.0.tar.gz (1.1 kB)\n",
      "Requirement already satisfied, skipping upgrade: scikit-learn in /home/jovyan/.local/lib/python3.7/site-packages (from sklearn) (0.24.2)\n",
      "Requirement already satisfied, skipping upgrade: scipy>=0.19.1 in /opt/conda/lib/python3.7/site-packages (from scikit-learn->sklearn) (1.4.1)\n",
      "Requirement already satisfied, skipping upgrade: threadpoolctl>=2.0.0 in /home/jovyan/.local/lib/python3.7/site-packages (from scikit-learn->sklearn) (2.1.0)\n",
      "Requirement already satisfied, skipping upgrade: numpy>=1.13.3 in /opt/conda/lib/python3.7/site-packages (from scikit-learn->sklearn) (1.19.5)\n",
      "Requirement already satisfied, skipping upgrade: joblib>=0.11 in /opt/conda/lib/python3.7/site-packages (from scikit-learn->sklearn) (1.0.1)\n",
      "Building wheels for collected packages: sklearn\n",
      "  Building wheel for sklearn (setup.py) ... \u001b[?25ldone\n",
      "\u001b[?25h  Created wheel for sklearn: filename=sklearn-0.0-py2.py3-none-any.whl size=1315 sha256=e060478c2970a1acab4768afe4937ccc4925acf1aea0c50607fdbdf6a462edeb\n",
      "  Stored in directory: /home/jovyan/.cache/pip/wheels/46/ef/c3/157e41f5ee1372d1be90b09f74f82b10e391eaacca8f22d33e\n",
      "Successfully built sklearn\n",
      "Installing collected packages: sklearn\n",
      "Successfully installed sklearn-0.0\n"
     ]
    }
   ],
   "source": [
    "!pip install -U sklearn"
   ]
  },
  {
   "cell_type": "code",
   "execution_count": null,
   "metadata": {},
   "outputs": [],
   "source": [
    "from sklearn.impute import KNNImputer"
   ]
  },
  {
   "cell_type": "code",
   "execution_count": null,
   "metadata": {},
   "outputs": [],
   "source": [
    "imputer = KNNImputer()\n",
    "without_nan = pd.DataFrame(data = imputer.fit_transform(train_frame.drop(['date'],axis = 1)),\n",
    "             columns= train_frame.drop(['date'],axis = 1).columns,\n",
    "             index = train_frame.index)"
   ]
  },
  {
   "cell_type": "code",
   "execution_count": null,
   "metadata": {},
   "outputs": [],
   "source": [
    "test_frame = test_frame.dropna(subset= ['date'],axis = 0)"
   ]
  },
  {
   "cell_type": "code",
   "execution_count": 22,
   "metadata": {},
   "outputs": [],
   "source": [
    "test_frame_for_target = test_frame.merge(full_frame.loc[:,['date',\"rougher.output.recovery\",\"final.output.recovery\"]],on = 'date')"
   ]
  },
  {
   "cell_type": "code",
   "execution_count": 23,
   "metadata": {},
   "outputs": [],
   "source": [
    "test_frame_for_target = test_frame_for_target.dropna(subset=[\"rougher.output.recovery\",\"final.output.recovery\"],axis = 0)"
   ]
  },
  {
   "cell_type": "code",
   "execution_count": 24,
   "metadata": {},
   "outputs": [],
   "source": [
    "test_frame = test_frame_for_target.loc[:,test_frame.columns]"
   ]
  },
  {
   "cell_type": "code",
   "execution_count": 25,
   "metadata": {},
   "outputs": [],
   "source": [
    "target_test_rougher = test_frame_for_target[\"rougher.output.recovery\"]\n",
    "target_test_final = test_frame_for_target[\"final.output.recovery\"]"
   ]
  },
  {
   "cell_type": "code",
   "execution_count": 26,
   "metadata": {},
   "outputs": [],
   "source": [
    "test_frame = test_frame.drop(\"date\",axis =1)"
   ]
  },
  {
   "cell_type": "code",
   "execution_count": null,
   "metadata": {},
   "outputs": [],
   "source": [
    "imputer_test = KNNImputer()\n",
    "test_without_nan = pd.DataFrame(data = imputer_test.fit_transform(test_frame),\n",
    "             columns= test_frame.columns,\n",
    "             index = test_frame.index)"
   ]
  },
  {
   "cell_type": "markdown",
   "metadata": {},
   "source": [
    "## Анализ данных"
   ]
  },
  {
   "cell_type": "markdown",
   "metadata": {},
   "source": [
    "Расчет концентрации металлов на разных этапах"
   ]
  },
  {
   "cell_type": "code",
   "execution_count": 25,
   "metadata": {},
   "outputs": [
    {
     "name": "stdout",
     "output_type": "stream",
     "text": [
      "Концентрация до флотации\n",
      "Концентрация Серебра: 8.58,Свинца: 3.52,Золота: 7.87\n",
      "\n",
      "Концентрация после флотации\n",
      "Коцентрация Серебра: 11.78,Свинца: 7.66,Золота: 19.44\n",
      "\n",
      "Концентрация после первичной очистки\n",
      "Концентрация Серебра: 8.20,Свинца: 9.58,Золота: 32.39\n",
      "\n",
      "Концентрация поле вторичной очистки\n",
      "Концентрация Серебра: 5.14,Свинца: 10.13,Золота: 44.00\n"
     ]
    }
   ],
   "source": [
    "print(\"Концентрация до флотации\")\n",
    "print(\"Концентрация Серебра:{: 0.2f},Свинца:{: 0.2f},Золота:{: 0.2f}\".\n",
    "format(without_nan[\"rougher.input.feed_ag\"].mean(),\n",
    "without_nan[\"rougher.input.feed_pb\"].mean(),\n",
    "without_nan[\"rougher.input.feed_au\"].mean()))\n",
    "print()\n",
    "print(\"Концентрация после флотации\")\n",
    "print(\"Коцентрация Серебра:{: 0.2f},Свинца:{: 0.2f},Золота:{: 0.2f}\".\n",
    "format(without_nan[\"rougher.output.concentrate_ag\"].mean(),\n",
    "without_nan[\"rougher.output.concentrate_pb\"].mean(),\n",
    "without_nan[\"rougher.output.concentrate_au\"].mean()))\n",
    "print()\n",
    "print(\"Концентрация после первичной очистки\")\n",
    "print(\"Концентрация Серебра:{: 0.2f},Свинца:{: 0.2f},Золота:{: 0.2f}\".\n",
    "format(without_nan[\"primary_cleaner.output.concentrate_ag\"].mean(),\n",
    "without_nan[\"primary_cleaner.output.concentrate_pb\"].mean(),\n",
    "without_nan[\"primary_cleaner.output.concentrate_au\"].mean()))\n",
    "print()\n",
    "print(\"Концентрация поле вторичной очистки\")\n",
    "print(\"Концентрация Серебра:{: 0.2f},Свинца:{: 0.2f},Золота:{: 0.2f}\".\n",
    "format(without_nan[\"final.output.concentrate_ag\"].mean(),\n",
    "without_nan[\"final.output.concentrate_pb\"].mean(),\n",
    "without_nan[\"final.output.concentrate_au\"].mean()))"
   ]
  },
  {
   "cell_type": "markdown",
   "metadata": {},
   "source": [
    "По представленным выше данным отчетливо видно, что с каждым этапом увеличивается концентрация золота и свинца, так же можно заметить уменьшение концентрации серебра"
   ]
  },
  {
   "attachments": {
    "image.png": {
     "image/png": "[encoded data removed]"
    }
   },
   "cell_type": "markdown",
   "metadata": {},
   "source": [
    "![image.png](attachment:image.png)"
   ]
  },
  {
   "cell_type": "markdown",
   "metadata": {},
   "source": [
    "###### График распределения размера гранул"
   ]
  },
  {
   "cell_type": "code",
   "execution_count": 26,
   "metadata": {},
   "outputs": [
    {
     "data": {
      "image/png": "[encoded data removed]",
      "text/plain": [
       "<Figure size 432x288 with 1 Axes>"
      ]
     },
     "metadata": {
      "needs_background": "light"
     },
     "output_type": "display_data"
    }
   ],
   "source": [
    "for frame,name in zip([without_nan,test_without_nan],\n",
    "                       [\"train\",\"test\"]):\n",
    "    subset = frame[\"rougher.input.feed_size\"]\n",
    "\n",
    "    sns.distplot(subset, hist = False, kde = True,\n",
    "                 label = name)\n",
    "plt.legend(prop={'size': 10}, title = 'Frame')\n",
    "plt.title('Размер гранул');"
   ]
  },
  {
   "cell_type": "markdown",
   "metadata": {},
   "source": [
    "Мы можем видеть, что распределения немного отличаются. В тренировочной выборке преобладают значения около порога 50 и выше, в то же время как в тестовой выборке достаточно большое количество объектов сконцентрированы до порога 50. Так же это заметно и на средних значениях, среднее значение тренировочной выборки на 3 пункта больше среднего по тестовой выборке"
   ]
  },
  {
   "cell_type": "markdown",
   "metadata": {},
   "source": [
    "###### Расчет суммарной концентрации"
   ]
  },
  {
   "cell_type": "code",
   "execution_count": 27,
   "metadata": {},
   "outputs": [],
   "source": [
    "def summary_of_concentarution(row):\n",
    "    list_of_steps = [\"rougher\",\"primary_cleaner\",\"final\"]\n",
    "    input_feed_au = row[\"rougher.input.feed_au\"]\n",
    "    input_feed_ag = row[\"rougher.input.feed_ag\"]\n",
    "    input_feed_pb = row[\"rougher.input.feed_pb\"]\n",
    "    input_feed_sol = row[\"rougher.input.feed_sol\"]\n",
    "    out_rougher = []\n",
    "    out_primary_cleaner = []\n",
    "    out_final = []\n",
    "    list_of_arrays =[out_rougher,out_primary_cleaner,out_final]\n",
    "    for step,array in zip(list_of_steps,list_of_arrays):\n",
    "        array.append(row[step+\".output.concentrate_au\"])\n",
    "        array.append(row[step+\".output.concentrate_ag\"])\n",
    "        array.append(row[step+\".output.concentrate_pb\"])\n",
    "        array.append(row[step+\".output.concentrate_sol\"])\n",
    "    sum_before_steps = input_feed_ag+input_feed_au+input_feed_pb+input_feed_sol\n",
    "    sum_rougher = sum(out_rougher)\n",
    "    sum_primary = sum(out_primary_cleaner)\n",
    "    sum_final = sum(out_final)\n",
    "    return pd.Series([sum_before_steps,sum_rougher,sum_primary,sum_final])"
   ]
  },
  {
   "cell_type": "code",
   "execution_count": 28,
   "metadata": {},
   "outputs": [],
   "source": [
    "sum_values = without_nan.apply(summary_of_concentarution,axis = 1)\n",
    "sum_values.columns = [\"before_rougher\",\"rougher\",\"primary_cleaner\",\"final\"]"
   ]
  },
  {
   "cell_type": "code",
   "execution_count": 29,
   "metadata": {},
   "outputs": [
    {
     "data": {
      "text/html": [
       "<div>\n",
       "<style scoped>\n",
       "    .dataframe tbody tr th:only-of-type {\n",
       "        vertical-align: middle;\n",
       "    }\n",
       "\n",
       "    .dataframe tbody tr th {\n",
       "        vertical-align: top;\n",
       "    }\n",
       "\n",
       "    .dataframe thead th {\n",
       "        text-align: right;\n",
       "    }\n",
       "</style>\n",
       "<table border=\"1\" class=\"dataframe\">\n",
       "  <thead>\n",
       "    <tr style=\"text-align: right;\">\n",
       "      <th></th>\n",
       "      <th>before_rougher</th>\n",
       "      <th>rougher</th>\n",
       "      <th>primary_cleaner</th>\n",
       "      <th>final</th>\n",
       "    </tr>\n",
       "  </thead>\n",
       "  <tbody>\n",
       "    <tr>\n",
       "      <td>0</td>\n",
       "      <td>51.680034</td>\n",
       "      <td>66.424950</td>\n",
       "      <td>72.640924</td>\n",
       "      <td>63.644396</td>\n",
       "    </tr>\n",
       "    <tr>\n",
       "      <td>1</td>\n",
       "      <td>50.659114</td>\n",
       "      <td>67.012710</td>\n",
       "      <td>72.543485</td>\n",
       "      <td>63.957723</td>\n",
       "    </tr>\n",
       "    <tr>\n",
       "      <td>2</td>\n",
       "      <td>50.609929</td>\n",
       "      <td>66.103793</td>\n",
       "      <td>72.095042</td>\n",
       "      <td>64.311180</td>\n",
       "    </tr>\n",
       "    <tr>\n",
       "      <td>3</td>\n",
       "      <td>51.061546</td>\n",
       "      <td>65.752751</td>\n",
       "      <td>59.957723</td>\n",
       "      <td>63.573449</td>\n",
       "    </tr>\n",
       "    <tr>\n",
       "      <td>4</td>\n",
       "      <td>47.859163</td>\n",
       "      <td>65.908382</td>\n",
       "      <td>71.321010</td>\n",
       "      <td>64.004667</td>\n",
       "    </tr>\n",
       "    <tr>\n",
       "      <td>...</td>\n",
       "      <td>...</td>\n",
       "      <td>...</td>\n",
       "      <td>...</td>\n",
       "      <td>...</td>\n",
       "    </tr>\n",
       "    <tr>\n",
       "      <td>16855</td>\n",
       "      <td>53.415050</td>\n",
       "      <td>70.781325</td>\n",
       "      <td>59.001692</td>\n",
       "      <td>68.098589</td>\n",
       "    </tr>\n",
       "    <tr>\n",
       "      <td>16856</td>\n",
       "      <td>53.696482</td>\n",
       "      <td>70.539603</td>\n",
       "      <td>59.703912</td>\n",
       "      <td>68.274362</td>\n",
       "    </tr>\n",
       "    <tr>\n",
       "      <td>16857</td>\n",
       "      <td>54.589604</td>\n",
       "      <td>55.376330</td>\n",
       "      <td>59.561096</td>\n",
       "      <td>68.226068</td>\n",
       "    </tr>\n",
       "    <tr>\n",
       "      <td>16858</td>\n",
       "      <td>54.027355</td>\n",
       "      <td>69.201689</td>\n",
       "      <td>57.216686</td>\n",
       "      <td>68.200449</td>\n",
       "    </tr>\n",
       "    <tr>\n",
       "      <td>16859</td>\n",
       "      <td>53.535054</td>\n",
       "      <td>69.544003</td>\n",
       "      <td>55.748041</td>\n",
       "      <td>68.353154</td>\n",
       "    </tr>\n",
       "  </tbody>\n",
       "</table>\n",
       "<p>14149 rows × 4 columns</p>\n",
       "</div>"
      ],
      "text/plain": [
       "       before_rougher    rougher  primary_cleaner      final\n",
       "0           51.680034  66.424950        72.640924  63.644396\n",
       "1           50.659114  67.012710        72.543485  63.957723\n",
       "2           50.609929  66.103793        72.095042  64.311180\n",
       "3           51.061546  65.752751        59.957723  63.573449\n",
       "4           47.859163  65.908382        71.321010  64.004667\n",
       "...               ...        ...              ...        ...\n",
       "16855       53.415050  70.781325        59.001692  68.098589\n",
       "16856       53.696482  70.539603        59.703912  68.274362\n",
       "16857       54.589604  55.376330        59.561096  68.226068\n",
       "16858       54.027355  69.201689        57.216686  68.200449\n",
       "16859       53.535054  69.544003        55.748041  68.353154\n",
       "\n",
       "[14149 rows x 4 columns]"
      ]
     },
     "execution_count": 29,
     "metadata": {},
     "output_type": "execute_result"
    }
   ],
   "source": [
    "sum_values"
   ]
  },
  {
   "cell_type": "code",
   "execution_count": 30,
   "metadata": {},
   "outputs": [
    {
     "data": {
      "image/png": "[encoded data removed]",
      "text/plain": [
       "<Figure size 1440x2160 with 4 Axes>"
      ]
     },
     "metadata": {
      "needs_background": "light"
     },
     "output_type": "display_data"
    }
   ],
   "source": [
    "fig,ax = plt.subplots(4,1,figsize = (20,30))\n",
    "\n",
    "ax[0].hist(sum_values[\"before_rougher\"],bins = 40)\n",
    "ax[1].hist(sum_values[\"rougher\"],bins = 40)\n",
    "ax[2].hist(sum_values[\"primary_cleaner\"],bins = 40)\n",
    "ax[3].hist(sum_values[\"final\"],bins = 40)\n",
    "ax[0].set_xlabel(\"Сумма долей компонентов\")\n",
    "ax[1].set_xlabel(\"Сумма долей компонентов\")\n",
    "ax[2].set_xlabel(\"Сумма долей компонентов\")\n",
    "ax[3].set_xlabel(\"Сумма долей компонентов\")\n",
    "ax[0].set_title(\"Концентрация компонентов до флотации\")\n",
    "ax[1].set_title(\"Концентрация компонентов после флотации\")\n",
    "ax[2].set_title(\"Концентрация компонентов после первичной очистки\")\n",
    "ax[3].set_title(\"Концентрация компонентов после финального этапа\")\n",
    "plt.show()"
   ]
  },
  {
   "cell_type": "markdown",
   "metadata": {},
   "source": [
    "Можно заметить, что во всех распределениях присутствует пик около нулевого значения. Он очень далек от общего распределения, его следует удалить. Так же это стоит проделать и в тестовой выборке, так они носят характер выбросов"
   ]
  },
  {
   "cell_type": "markdown",
   "metadata": {},
   "source": [
    "###### Удаление выбросов"
   ]
  },
  {
   "cell_type": "code",
   "execution_count": 31,
   "metadata": {},
   "outputs": [],
   "source": [
    "without_nan = without_nan.drop(index = without_nan[without_nan[\"rougher.input.feed_au\"] < 1].index,\n",
    "                               axis = 0)\n",
    "without_nan = without_nan.drop(index = without_nan[without_nan[\"rougher.input.feed_ag\"] < 1].index,\n",
    "                               axis = 0)\n",
    "without_nan = without_nan.drop(index = without_nan[without_nan[\"rougher.input.feed_pb\"] < 1].index,\n",
    "                               axis = 0)\n",
    "without_nan = without_nan.drop(index = without_nan[without_nan[\"rougher.input.feed_sol\"] < 1].index,\n",
    "                               axis = 0)\n",
    "\n",
    "\n",
    "without_nan = without_nan.drop(index = without_nan[without_nan[\"rougher.output.concentrate_au\"] < 1].index,\n",
    "                               axis = 0)\n",
    "without_nan = without_nan.drop(index = without_nan[without_nan[\"rougher.output.concentrate_ag\"] < 1].index,\n",
    "                               axis = 0)\n",
    "without_nan = without_nan.drop(index = without_nan[without_nan[\"rougher.output.concentrate_pb\"] < 1].index,\n",
    "                               axis = 0)\n",
    "without_nan = without_nan.drop(index = without_nan[without_nan[\"rougher.output.concentrate_sol\"] < 1].index,\n",
    "                               axis = 0)\n",
    "\n",
    "without_nan = without_nan.drop(index = without_nan[without_nan[\"primary_cleaner.output.concentrate_au\"] < 1].index,\n",
    "                               axis = 0)\n",
    "without_nan = without_nan.drop(index = without_nan[without_nan[\"primary_cleaner.output.concentrate_ag\"] < 1].index,\n",
    "                               axis = 0)\n",
    "without_nan = without_nan.drop(index = without_nan[without_nan[\"primary_cleaner.output.concentrate_pb\"] < 1].index,\n",
    "                               axis = 0)\n",
    "without_nan = without_nan.drop(index = without_nan[without_nan[\"primary_cleaner.output.concentrate_sol\"] < 1].index,\n",
    "                               axis = 0)\n",
    "\n",
    "without_nan = without_nan.drop(index = without_nan[without_nan[\"final.output.concentrate_au\"] < 1].index,\n",
    "                               axis = 0)\n",
    "without_nan = without_nan.drop(index = without_nan[without_nan[\"final.output.concentrate_ag\"] < 1].index,\n",
    "                               axis = 0)\n",
    "without_nan = without_nan.drop(index = without_nan[without_nan[\"final.output.concentrate_pb\"] < 1].index,\n",
    "                               axis = 0)\n",
    "without_nan = without_nan.drop(index = without_nan[without_nan[\"final.output.concentrate_sol\"] < 1].index,\n",
    "                               axis = 0)"
   ]
  },
  {
   "cell_type": "markdown",
   "metadata": {},
   "source": [
    "###### График суммарной концентрации после удаления выбросов"
   ]
  },
  {
   "cell_type": "code",
   "execution_count": 55,
   "metadata": {},
   "outputs": [
    {
     "data": {
      "image/png": "[encoded data removed]",
      "text/plain": [
       "<Figure size 1440x2160 with 4 Axes>"
      ]
     },
     "metadata": {
      "needs_background": "light"
     },
     "output_type": "display_data"
    }
   ],
   "source": [
    "fig,ax = plt.subplots(4,1,figsize = (20,30))\n",
    "\n",
    "ax[0].hist(sum_values[\"before_rougher\"],bins = 40)\n",
    "ax[1].hist(sum_values[\"rougher\"],bins = 40)\n",
    "ax[2].hist(sum_values[\"primary_cleaner\"],bins = 40)\n",
    "ax[3].hist(sum_values[\"final\"],bins = 40)\n",
    "ax[0].set_xlabel(\"Сумма долей компонентов\")\n",
    "ax[1].set_xlabel(\"Сумма долей компонентов\")\n",
    "ax[2].set_xlabel(\"Сумма долей компонентов\")\n",
    "ax[3].set_xlabel(\"Сумма долей компонентов\")\n",
    "ax[0].set_title(\"Концентрация компонентов до флотации\")\n",
    "ax[1].set_title(\"Концентрация компонентов после флотации\")\n",
    "ax[2].set_title(\"Концентрация компонентов после первичной очистки\")\n",
    "ax[3].set_title(\"Концентрация компонентов после финального этапа\")\n",
    "plt.show()"
   ]
  },
  {
   "cell_type": "code",
   "execution_count": 33,
   "metadata": {},
   "outputs": [],
   "source": [
    "test_frame = test_frame.drop(index = test_frame[test_frame[\"rougher.input.feed_au\"] < 1].index,\n",
    "                               axis = 0)\n",
    "test_frame = test_frame.drop(index = test_frame[test_frame[\"rougher.input.feed_ag\"] < 1].index,\n",
    "                               axis = 0)\n",
    "test_frame = test_frame.drop(index = test_frame[test_frame[\"rougher.input.feed_pb\"] < 1].index,\n",
    "                               axis = 0)\n",
    "test_frame = test_frame.drop(index = test_frame[test_frame[\"rougher.input.feed_sol\"] < 1].index,\n",
    "                               axis = 0)"
   ]
  },
  {
   "cell_type": "code",
   "execution_count": 34,
   "metadata": {},
   "outputs": [],
   "source": [
    "train_features_dataset_rougher = without_nan.loc[:,test_frame.columns]\n",
    "train_target_dataset_rougher = without_nan['rougher.output.recovery']\n",
    "train_features_dataset_final = train_features_dataset_rougher \n",
    "train_target_dataset_final = without_nan['final.output.recovery']"
   ]
  },
  {
   "cell_type": "markdown",
   "metadata": {},
   "source": [
    "## Модель"
   ]
  },
  {
   "cell_type": "markdown",
   "metadata": {},
   "source": [
    "Метрики"
   ]
  },
  {
   "cell_type": "code",
   "execution_count": 35,
   "metadata": {},
   "outputs": [],
   "source": [
    "def sMAPE(y_true,y_pred):\n",
    "    error = np.mean(abs(y_true - y_pred)/((abs(y_true)+abs(y_pred))/2))*100\n",
    "    return error"
   ]
  },
  {
   "cell_type": "code",
   "execution_count": 36,
   "metadata": {},
   "outputs": [],
   "source": [
    "def final_sMAPE(sMAPE_rougher,sMAPE_final):\n",
    "    return (0.25*sMAPE_rougher + 0.75*sMAPE_final)"
   ]
  },
  {
   "cell_type": "code",
   "execution_count": 37,
   "metadata": {},
   "outputs": [],
   "source": [
    "custom_score = make_scorer(sMAPE,greater_is_better=False)"
   ]
  },
  {
   "cell_type": "markdown",
   "metadata": {},
   "source": [
    "###### Инициализация pipeline"
   ]
  },
  {
   "cell_type": "code",
   "execution_count": 38,
   "metadata": {},
   "outputs": [],
   "source": [
    "model = make_pipeline(StandardScaler(),RandomForestRegressor())\n",
    "model2 = make_pipeline(StandardScaler(),DecisionTreeRegressor())"
   ]
  },
  {
   "cell_type": "code",
   "execution_count": 39,
   "metadata": {},
   "outputs": [],
   "source": [
    "# Инициализация параметров для GridSearchCV\n",
    "params_RF = {\"randomforestregressor__n_estimators\":[5,100],\n",
    "             \"randomforestregressor__max_depth\":[1,10]}\n",
    "params_DT= {\"decisiontreeregressor__max_depth\":[1,10]}"
   ]
  },
  {
   "cell_type": "code",
   "execution_count": 40,
   "metadata": {},
   "outputs": [],
   "source": [
    "grid_rougher = GridSearchCV(model,param_grid = params_RF,scoring=custom_score)\n",
    "grid_final = GridSearchCV(model,param_grid = params_RF,scoring=custom_score)\n",
    "grid_rougher_DT = GridSearchCV(model2,param_grid = params_DT,scoring=custom_score)\n",
    "grid_final_DT = GridSearchCV(model2,param_grid = params_DT,scoring=custom_score)"
   ]
  },
  {
   "cell_type": "markdown",
   "metadata": {},
   "source": [
    "###### Обучение"
   ]
  },
  {
   "cell_type": "code",
   "execution_count": 41,
   "metadata": {},
   "outputs": [
    {
     "data": {
      "text/plain": [
       "GridSearchCV(estimator=Pipeline(steps=[('standardscaler', StandardScaler()),\n",
       "                                       ('decisiontreeregressor',\n",
       "                                        DecisionTreeRegressor())]),\n",
       "             param_grid={'decisiontreeregressor__max_depth': [1, 10]},\n",
       "             scoring=make_scorer(sMAPE, greater_is_better=False))"
      ]
     },
     "execution_count": 41,
     "metadata": {},
     "output_type": "execute_result"
    }
   ],
   "source": [
    "grid_rougher.fit(train_features_dataset_rougher,train_target_dataset_rougher)\n",
    "grid_final.fit(train_features_dataset_final,train_target_dataset_final)\n",
    "grid_rougher_DT.fit(train_features_dataset_rougher,train_target_dataset_rougher)\n",
    "grid_final_DT.fit(train_features_dataset_final,train_target_dataset_final)"
   ]
  },
  {
   "cell_type": "code",
   "execution_count": 42,
   "metadata": {},
   "outputs": [
    {
     "name": "stdout",
     "output_type": "stream",
     "text": [
      "Лучшие модели\n",
      "Pipeline(steps=[('standardscaler', StandardScaler()),\n",
      "                ('randomforestregressor', RandomForestRegressor(max_depth=10))])\n",
      "Pipeline(steps=[('standardscaler', StandardScaler()),\n",
      "                ('randomforestregressor', RandomForestRegressor(max_depth=10))])\n",
      "Pipeline(steps=[('standardscaler', StandardScaler()),\n",
      "                ('decisiontreeregressor', DecisionTreeRegressor(max_depth=1))])\n",
      "Pipeline(steps=[('standardscaler', StandardScaler()),\n",
      "                ('decisiontreeregressor', DecisionTreeRegressor(max_depth=1))])\n"
     ]
    }
   ],
   "source": [
    "print(\"Лучшие модели\")\n",
    "print(grid_rougher.best_estimator_)\n",
    "print(grid_rougher.best_estimator_)\n",
    "print(grid_rougher_DT.best_estimator_)\n",
    "print(grid_final_DT.best_estimator_)"
   ]
  },
  {
   "cell_type": "code",
   "execution_count": 43,
   "metadata": {},
   "outputs": [],
   "source": [
    "best_score_rougher = grid_rougher.best_score_\n",
    "best_score_final = grid_final.best_score_\n",
    "best_score_rougher_DT = grid_rougher_DT.best_score_\n",
    "best_score_final_DT = grid_final_DT.best_score_"
   ]
  },
  {
   "cell_type": "markdown",
   "metadata": {},
   "source": [
    "Определим лучшую модель для каждого целевого признака"
   ]
  },
  {
   "cell_type": "code",
   "execution_count": 44,
   "metadata": {},
   "outputs": [
    {
     "name": "stdout",
     "output_type": "stream",
     "text": [
      "rougher\n",
      "RandomForest -6.5810516690474 DecisionTree -7.962795330896458\n",
      "final\n",
      "RandomForest -9.335455839940282 DecisionTree -9.502834455132586\n"
     ]
    }
   ],
   "source": [
    "print(\"rougher\")\n",
    "print(\"RandomForest\",best_score_rougher,\"DecisionTree\",best_score_rougher_DT)\n",
    "print(\"final\")\n",
    "print(\"RandomForest\",best_score_final,\"DecisionTree\",best_score_final_DT)"
   ]
  },
  {
   "cell_type": "markdown",
   "metadata": {},
   "source": [
    "Видно, что лучше всего справляется RandomForest, так что как лучшую модель возьмем именно его"
   ]
  },
  {
   "cell_type": "markdown",
   "metadata": {},
   "source": [
    "###### Лучшие результаты на тренировочной выборке"
   ]
  },
  {
   "cell_type": "markdown",
   "metadata": {},
   "source": [
    "Финальный sMAPE рандомного леса"
   ]
  },
  {
   "cell_type": "code",
   "execution_count": 45,
   "metadata": {},
   "outputs": [
    {
     "data": {
      "text/plain": [
       "-8.646854797217062"
      ]
     },
     "execution_count": 45,
     "metadata": {},
     "output_type": "execute_result"
    }
   ],
   "source": [
    "final_sMAPE(best_score_rougher,best_score_final)"
   ]
  },
  {
   "cell_type": "markdown",
   "metadata": {},
   "source": [
    "Финальный sMAPE решающего дерева"
   ]
  },
  {
   "cell_type": "code",
   "execution_count": 46,
   "metadata": {},
   "outputs": [
    {
     "data": {
      "text/plain": [
       "-9.117824674073553"
      ]
     },
     "execution_count": 46,
     "metadata": {},
     "output_type": "execute_result"
    }
   ],
   "source": [
    "final_sMAPE(best_score_rougher_DT,best_score_final_DT)"
   ]
  },
  {
   "cell_type": "markdown",
   "metadata": {},
   "source": [
    "Наименьшую ошибку мы получили при использовании рандомного леса"
   ]
  },
  {
   "cell_type": "code",
   "execution_count": 47,
   "metadata": {},
   "outputs": [],
   "source": [
    "rogher_test = grid_rougher.predict(test_without_nan)"
   ]
  },
  {
   "cell_type": "code",
   "execution_count": 48,
   "metadata": {},
   "outputs": [],
   "source": [
    "final_test = grid_final.predict(test_without_nan)"
   ]
  },
  {
   "cell_type": "markdown",
   "metadata": {},
   "source": [
    "###### Финальная ошибка на тестовой выборке"
   ]
  },
  {
   "cell_type": "code",
   "execution_count": 49,
   "metadata": {},
   "outputs": [
    {
     "data": {
      "text/plain": [
       "9.135079449994816"
      ]
     },
     "execution_count": 49,
     "metadata": {},
     "output_type": "execute_result"
    }
   ],
   "source": [
    "final_sMAPE(sMAPE(target_test_rougher,rogher_test),sMAPE(target_test_final,final_test))"
   ]
  },
  {
   "cell_type": "markdown",
   "metadata": {},
   "source": [
    "###### Инициализируем и обучим константную модель"
   ]
  },
  {
   "cell_type": "code",
   "execution_count": 50,
   "metadata": {},
   "outputs": [],
   "source": [
    "base = DummyRegressor(strategy=\"median\")\n",
    "base_final = DummyRegressor(strategy=\"median\")"
   ]
  },
  {
   "cell_type": "markdown",
   "metadata": {},
   "source": [
    "Предскажем метки"
   ]
  },
  {
   "cell_type": "code",
   "execution_count": 51,
   "metadata": {},
   "outputs": [
    {
     "data": {
      "text/plain": [
       "DummyRegressor(strategy='median')"
      ]
     },
     "execution_count": 51,
     "metadata": {},
     "output_type": "execute_result"
    }
   ],
   "source": [
    "base.fit(train_features_dataset_rougher,train_target_dataset_rougher)\n",
    "base_final.fit(train_features_dataset_final,train_target_dataset_final)"
   ]
  },
  {
   "cell_type": "code",
   "execution_count": 52,
   "metadata": {},
   "outputs": [],
   "source": [
    "base_rougher = base.predict(test_without_nan)\n",
    "base_final_pred = base_final.predict(test_without_nan)"
   ]
  },
  {
   "cell_type": "code",
   "execution_count": 53,
   "metadata": {},
   "outputs": [
    {
     "data": {
      "text/plain": [
       "9.44138312943423"
      ]
     },
     "execution_count": 53,
     "metadata": {},
     "output_type": "execute_result"
    }
   ],
   "source": [
    "final_sMAPE(sMAPE(target_test_rougher,base_rougher),sMAPE(target_test_final,base_final_pred))"
   ]
  },
  {
   "cell_type": "markdown",
   "metadata": {},
   "source": [
    "Вывод после сравнения результатов, можно сделать следующий. Так как финальная ошибка меньше, полученной с помощью константного алгоритма, считаем ее приемлемой. "
   ]
  },
  {
   "cell_type": "markdown",
   "metadata": {},
   "source": [
    "###### Общий вывод"
   ]
  },
  {
   "cell_type": "markdown",
   "metadata": {},
   "source": [
    "Итоговая модель построена на алгоритме RandomForest\n",
    "Ошибка на тестовой выборке: 9.15\n",
    "Параметры алгоритма: { max_depth: 10}\n",
    "Параметр recovery в тренировочной выборке был рассчитан верно\n",
    "Изначально, в тестовой выборке отсутствует 34 признака"
   ]
  }
 ],
 "metadata": {
  "kernelspec": {
   "display_name": "Python 3",
   "language": "python",
   "name": "python3"
  },
  "language_info": {
   "codemirror_mode": {
    "name": "ipython",
    "version": 3
   },
   "file_extension": ".py",
   "mimetype": "text/x-python",
   "name": "python",
   "nbconvert_exporter": "python",
   "pygments_lexer": "ipython3",
   "version": "3.7.8"
  },
  "toc": {
   "base_numbering": 1,
   "nav_menu": {},
   "number_sections": true,
   "sideBar": true,
   "skip_h1_title": true,
   "title_cell": "Содержание",
   "title_sidebar": "Contents",
   "toc_cell": true,
   "toc_position": {
    "height": "calc(100% - 180px)",
    "left": "10px",
    "top": "150px",
    "width": "165px"
   },
   "toc_section_display": true,
   "toc_window_display": true
  }
 },
 "nbformat": 4,
 "nbformat_minor": 2
}
